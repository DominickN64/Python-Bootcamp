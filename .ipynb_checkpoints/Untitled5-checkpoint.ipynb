{
 "cells": [
  {
   "cell_type": "code",
   "execution_count": 2,
   "id": "2aeca3c3",
   "metadata": {},
   "outputs": [
    {
     "data": {
      "text/plain": [
       "str"
      ]
     },
     "execution_count": 2,
     "metadata": {},
     "output_type": "execute_result"
    }
   ],
   "source": [
    "type('TIOOIES')"
   ]
  },
  {
   "cell_type": "code",
   "execution_count": 47,
   "id": "a80d1676",
   "metadata": {},
   "outputs": [],
   "source": [
    "class Dog():\n",
    "    \n",
    "    wetnose = True\n",
    "    furry = True\n",
    "    nose_color = 'Black'\n",
    "    \n",
    "    def __init__(self,breed,stretches):\n",
    "        self.breed = breed\n",
    "        self.stretches = stretches\n",
    "        \n",
    "    def bark(self):\n",
    "        print('Woof')\n",
    "        \n",
    "        \n",
    "        \n",
    "        \n",
    "        "
   ]
  },
  {
   "cell_type": "code",
   "execution_count": 48,
   "id": "750d3065",
   "metadata": {},
   "outputs": [],
   "source": [
    "my_dog = Dog('Poodle', 'True') "
   ]
  },
  {
   "cell_type": "code",
   "execution_count": 9,
   "id": "75abde20",
   "metadata": {},
   "outputs": [
    {
     "data": {
      "text/plain": [
       "__main__.Dog"
      ]
     },
     "execution_count": 9,
     "metadata": {},
     "output_type": "execute_result"
    }
   ],
   "source": [
    "type (my_dog)"
   ]
  },
  {
   "cell_type": "code",
   "execution_count": 50,
   "id": "40427876",
   "metadata": {},
   "outputs": [
    {
     "name": "stdout",
     "output_type": "stream",
     "text": [
      "Woof\n"
     ]
    }
   ],
   "source": [
    "my_dog.bark()"
   ]
  },
  {
   "cell_type": "code",
   "execution_count": 41,
   "id": "dce557d8",
   "metadata": {},
   "outputs": [],
   "source": [
    "denises_dog = Dog('German Shepard', 'False')"
   ]
  },
  {
   "cell_type": "code",
   "execution_count": 43,
   "id": "c49d72a0",
   "metadata": {},
   "outputs": [
    {
     "data": {
      "text/plain": [
       "True"
      ]
     },
     "execution_count": 43,
     "metadata": {},
     "output_type": "execute_result"
    }
   ],
   "source": [
    "denises_dog.wetnose"
   ]
  },
  {
   "cell_type": "code",
   "execution_count": 45,
   "id": "48790eb2",
   "metadata": {},
   "outputs": [
    {
     "data": {
      "text/plain": [
       "'German Shepard'"
      ]
     },
     "execution_count": 45,
     "metadata": {},
     "output_type": "execute_result"
    }
   ],
   "source": [
    "denises_dog.breed"
   ]
  },
  {
   "cell_type": "code",
   "execution_count": 5,
   "id": "ea473751",
   "metadata": {},
   "outputs": [],
   "source": [
    "def reverse():\n",
    "    \n",
    "    s = input(\"Enter the string to be reversed >\")\n",
    "    \n",
    "\n",
    "    rs = s[::-1]\n",
    "\n",
    "    so = ''.join(sorted(s))\n",
    "\n",
    "\n",
    "  \n",
    "    print(f\"Sample string:{s}\")\n",
    "  \n",
    "    print(f\"Reversed output: {rs}\")\n",
    "\n",
    "    print(f\"Sorted output: {so}\")"
   ]
  },
  {
   "cell_type": "code",
   "execution_count": 8,
   "id": "3bde166a",
   "metadata": {},
   "outputs": [
    {
     "name": "stdout",
     "output_type": "stream",
     "text": [
      "Enter the string to be reversed >shiin pooo 222 poopy 221\n",
      "Sample string:shiin pooo 222 poopy 221\n",
      "Reversed output: 122 ypoop 222 ooop niihs\n",
      "Sorted output:     122222hiinooooopppsy\n"
     ]
    }
   ],
   "source": [
    "reverse()"
   ]
  },
  {
   "cell_type": "code",
   "execution_count": 9,
   "id": "71d88393",
   "metadata": {},
   "outputs": [],
   "source": [
    "e = 'nihha'"
   ]
  },
  {
   "cell_type": "code",
   "execution_count": 1,
   "id": "f11bec30",
   "metadata": {},
   "outputs": [
    {
     "ename": "NameError",
     "evalue": "name 'e' is not defined",
     "output_type": "error",
     "traceback": [
      "\u001b[1;31m---------------------------------------------------------------------------\u001b[0m",
      "\u001b[1;31mNameError\u001b[0m                                 Traceback (most recent call last)",
      "Input \u001b[1;32mIn [1]\u001b[0m, in \u001b[0;36m<cell line: 1>\u001b[1;34m()\u001b[0m\n\u001b[1;32m----> 1\u001b[0m eyye \u001b[38;5;241m=\u001b[39m \u001b[38;5;28msorted\u001b[39m(\u001b[43me\u001b[49m)\n\u001b[0;32m      2\u001b[0m \u001b[38;5;124m'\u001b[39m\u001b[38;5;124m'\u001b[39m\u001b[38;5;241m.\u001b[39mjoin(eyye)\n",
      "\u001b[1;31mNameError\u001b[0m: name 'e' is not defined"
     ]
    }
   ],
   "source": [
    "eyye = sorted(e)\n",
    "''.join(eyye)"
   ]
  },
  {
   "cell_type": "code",
   "execution_count": 4,
   "id": "9598f3c1",
   "metadata": {},
   "outputs": [],
   "source": [
    "mylist = {1,2,3}"
   ]
  },
  {
   "cell_type": "code",
   "execution_count": 13,
   "id": "8c789b12",
   "metadata": {},
   "outputs": [],
   "source": [
    "mylist.add(4)"
   ]
  },
  {
   "cell_type": "code",
   "execution_count": 16,
   "id": "111d671b",
   "metadata": {},
   "outputs": [
    {
     "ename": "AttributeError",
     "evalue": "'set' object has no attribute 'subtract'",
     "output_type": "error",
     "traceback": [
      "\u001b[1;31m---------------------------------------------------------------------------\u001b[0m",
      "\u001b[1;31mAttributeError\u001b[0m                            Traceback (most recent call last)",
      "Input \u001b[1;32mIn [16]\u001b[0m, in \u001b[0;36m<cell line: 1>\u001b[1;34m()\u001b[0m\n\u001b[1;32m----> 1\u001b[0m \u001b[43mmylist\u001b[49m\u001b[38;5;241;43m.\u001b[39;49m\u001b[43msubtract\u001b[49m(\u001b[38;5;241m4\u001b[39m)\n",
      "\u001b[1;31mAttributeError\u001b[0m: 'set' object has no attribute 'subtract'"
     ]
    }
   ],
   "source": [
    "mylist.remove(4)"
   ]
  },
  {
   "cell_type": "code",
   "execution_count": 14,
   "id": "fe9b28fc",
   "metadata": {},
   "outputs": [
    {
     "data": {
      "text/plain": [
       "{1, 2, 3, 4}"
      ]
     },
     "execution_count": 14,
     "metadata": {},
     "output_type": "execute_result"
    }
   ],
   "source": [
    "mylist"
   ]
  }
 ],
 "metadata": {
  "kernelspec": {
   "display_name": "Python 3 (ipykernel)",
   "language": "python",
   "name": "python3"
  },
  "language_info": {
   "codemirror_mode": {
    "name": "ipython",
    "version": 3
   },
   "file_extension": ".py",
   "mimetype": "text/x-python",
   "name": "python",
   "nbconvert_exporter": "python",
   "pygments_lexer": "ipython3",
   "version": "3.9.12"
  }
 },
 "nbformat": 4,
 "nbformat_minor": 5
}
