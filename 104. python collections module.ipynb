{
 "cells": [
  {
   "cell_type": "code",
   "execution_count": 1,
   "id": "0396fd17",
   "metadata": {},
   "outputs": [],
   "source": [
    "from collections import Counter"
   ]
  },
  {
   "cell_type": "code",
   "execution_count": 2,
   "id": "ae2c0827",
   "metadata": {},
   "outputs": [],
   "source": [
    "mylist = [1,1,1,1,1,2,2,2,2,2,2,2,2,2,3,3,3,3,3,3]"
   ]
  },
  {
   "cell_type": "code",
   "execution_count": 4,
   "id": "734b4a03",
   "metadata": {},
   "outputs": [
    {
     "data": {
      "text/plain": [
       "Counter({1: 5, 2: 9, 3: 6})"
      ]
     },
     "execution_count": 4,
     "metadata": {},
     "output_type": "execute_result"
    }
   ],
   "source": [
    "Counter(mylist)"
   ]
  },
  {
   "cell_type": "code",
   "execution_count": 11,
   "id": "c8a21a63",
   "metadata": {},
   "outputs": [],
   "source": [
    "sentence = \"How many times does the same word show in this sentence with a word\""
   ]
  },
  {
   "cell_type": "code",
   "execution_count": 12,
   "id": "16a0de2d",
   "metadata": {},
   "outputs": [
    {
     "data": {
      "text/plain": [
       "'how many times does the same word show in this sentence with a word'"
      ]
     },
     "execution_count": 12,
     "metadata": {},
     "output_type": "execute_result"
    }
   ],
   "source": [
    "sentence.lower()"
   ]
  },
  {
   "cell_type": "code",
   "execution_count": 9,
   "id": "a8adb05f",
   "metadata": {},
   "outputs": [
    {
     "data": {
      "text/plain": [
       "Counter({'How': 1,\n",
       "         'many': 1,\n",
       "         'times': 1,\n",
       "         'does': 1,\n",
       "         'the': 1,\n",
       "         'same': 1,\n",
       "         'word': 2,\n",
       "         'show': 1,\n",
       "         'in': 1,\n",
       "         'this': 1,\n",
       "         'sentence': 1,\n",
       "         'with': 1,\n",
       "         'a': 1})"
      ]
     },
     "execution_count": 9,
     "metadata": {},
     "output_type": "execute_result"
    }
   ],
   "source": [
    "Counter(sentence.split())"
   ]
  },
  {
   "cell_type": "code",
   "execution_count": 10,
   "id": "5337b6ce",
   "metadata": {},
   "outputs": [
    {
     "data": {
      "text/plain": [
       "['How',\n",
       " 'many',\n",
       " 'times',\n",
       " 'does',\n",
       " 'the',\n",
       " 'same',\n",
       " 'word',\n",
       " 'show',\n",
       " 'in',\n",
       " 'this',\n",
       " 'sentence',\n",
       " 'with',\n",
       " 'a',\n",
       " 'word']"
      ]
     },
     "execution_count": 10,
     "metadata": {},
     "output_type": "execute_result"
    }
   ],
   "source": [
    "sentence.split()\n",
    "    "
   ]
  },
  {
   "cell_type": "code",
   "execution_count": 13,
   "id": "f6adb29a",
   "metadata": {},
   "outputs": [
    {
     "data": {
      "text/plain": [
       "Counter({'H': 1,\n",
       "         'o': 5,\n",
       "         'w': 5,\n",
       "         ' ': 13,\n",
       "         'm': 3,\n",
       "         'a': 3,\n",
       "         'n': 4,\n",
       "         'y': 1,\n",
       "         't': 5,\n",
       "         'i': 4,\n",
       "         'e': 7,\n",
       "         's': 6,\n",
       "         'd': 3,\n",
       "         'h': 4,\n",
       "         'r': 2,\n",
       "         'c': 1})"
      ]
     },
     "execution_count": 13,
     "metadata": {},
     "output_type": "execute_result"
    }
   ],
   "source": [
    "Counter(sentence)"
   ]
  },
  {
   "cell_type": "code",
   "execution_count": 14,
   "id": "ed736d16",
   "metadata": {},
   "outputs": [],
   "source": [
    "letters = \"aaabbbbccccccccddd\""
   ]
  },
  {
   "cell_type": "code",
   "execution_count": 15,
   "id": "212ec199",
   "metadata": {},
   "outputs": [],
   "source": [
    "c = Counter(letters)"
   ]
  },
  {
   "cell_type": "code",
   "execution_count": 21,
   "id": "4baf9132",
   "metadata": {},
   "outputs": [
    {
     "data": {
      "text/plain": [
       "[('c', 8), ('b', 4), ('a', 3), ('d', 3)]"
      ]
     },
     "execution_count": 21,
     "metadata": {},
     "output_type": "execute_result"
    }
   ],
   "source": [
    "c.most_common()"
   ]
  },
  {
   "cell_type": "code",
   "execution_count": 24,
   "id": "a5870692",
   "metadata": {},
   "outputs": [
    {
     "data": {
      "text/plain": [
       "[('c', 8), ('b', 4)]"
      ]
     },
     "execution_count": 24,
     "metadata": {},
     "output_type": "execute_result"
    }
   ],
   "source": [
    "c.most_common(2)"
   ]
  },
  {
   "cell_type": "code",
   "execution_count": 26,
   "id": "ff7ef294",
   "metadata": {},
   "outputs": [
    {
     "data": {
      "text/plain": [
       "Counter({'a': 3, 'b': 4, 'c': 8, 'd': 3})"
      ]
     },
     "execution_count": 26,
     "metadata": {},
     "output_type": "execute_result"
    }
   ],
   "source": [
    "c"
   ]
  },
  {
   "cell_type": "code",
   "execution_count": 28,
   "id": "8bbf90c3",
   "metadata": {},
   "outputs": [
    {
     "data": {
      "text/plain": [
       "['a', 'b', 'c', 'd']"
      ]
     },
     "execution_count": 28,
     "metadata": {},
     "output_type": "execute_result"
    }
   ],
   "source": [
    "list(c)"
   ]
  },
  {
   "cell_type": "code",
   "execution_count": 29,
   "id": "27bb2841",
   "metadata": {},
   "outputs": [],
   "source": [
    "from collections import defaultdict"
   ]
  },
  {
   "cell_type": "code",
   "execution_count": 30,
   "id": "e6ff65e4",
   "metadata": {},
   "outputs": [],
   "source": [
    "d = defaultdict(lambda:0)"
   ]
  },
  {
   "cell_type": "code",
   "execution_count": 32,
   "id": "390a9449",
   "metadata": {},
   "outputs": [],
   "source": [
    "d[\"cheese\"] = 3"
   ]
  },
  {
   "cell_type": "code",
   "execution_count": 34,
   "id": "124c9df5",
   "metadata": {},
   "outputs": [
    {
     "data": {
      "text/plain": [
       "defaultdict(<function __main__.<lambda>()>, {'cheese': 3})"
      ]
     },
     "execution_count": 34,
     "metadata": {},
     "output_type": "execute_result"
    }
   ],
   "source": [
    "d"
   ]
  },
  {
   "cell_type": "code",
   "execution_count": 35,
   "id": "f3c0b1ee",
   "metadata": {},
   "outputs": [
    {
     "data": {
      "text/plain": [
       "0"
      ]
     },
     "execution_count": 35,
     "metadata": {},
     "output_type": "execute_result"
    }
   ],
   "source": [
    "d[\"swine\"]   #calling a key that doesnt exist in the dictionary gives no error, just adds the key to the dict with your specified default value"
   ]
  },
  {
   "cell_type": "code",
   "execution_count": 37,
   "id": "69d057c2",
   "metadata": {},
   "outputs": [
    {
     "data": {
      "text/plain": [
       "defaultdict(<function __main__.<lambda>()>, {'cheese': 3, 'swine': 0})"
      ]
     },
     "execution_count": 37,
     "metadata": {},
     "output_type": "execute_result"
    }
   ],
   "source": [
    "d"
   ]
  },
  {
   "cell_type": "code",
   "execution_count": 38,
   "id": "97ca02f9",
   "metadata": {},
   "outputs": [],
   "source": [
    "mytuple = (10,20,30)"
   ]
  },
  {
   "cell_type": "code",
   "execution_count": 39,
   "id": "86f6966b",
   "metadata": {},
   "outputs": [
    {
     "data": {
      "text/plain": [
       "10"
      ]
     },
     "execution_count": 39,
     "metadata": {},
     "output_type": "execute_result"
    }
   ],
   "source": [
    "mytuple[0]"
   ]
  },
  {
   "cell_type": "code",
   "execution_count": 40,
   "id": "52c100fb",
   "metadata": {},
   "outputs": [],
   "source": [
    "from collections import namedtuple"
   ]
  },
  {
   "cell_type": "code",
   "execution_count": 42,
   "id": "e70009b1",
   "metadata": {},
   "outputs": [],
   "source": [
    "Dog = namedtuple(\"Dog\",['age','breed','name'])"
   ]
  },
  {
   "cell_type": "code",
   "execution_count": 43,
   "id": "b357cf11",
   "metadata": {},
   "outputs": [],
   "source": [
    "sammy = Dog(age = 5,breed = 'huskey', name = 'sam')"
   ]
  },
  {
   "cell_type": "code",
   "execution_count": 45,
   "id": "baec3e46",
   "metadata": {},
   "outputs": [
    {
     "data": {
      "text/plain": [
       "Dog(age=5, breed='huskey', name='sam')"
      ]
     },
     "execution_count": 45,
     "metadata": {},
     "output_type": "execute_result"
    }
   ],
   "source": [
    "sammy"
   ]
  },
  {
   "cell_type": "code",
   "execution_count": 47,
   "id": "774ed34a",
   "metadata": {},
   "outputs": [
    {
     "data": {
      "text/plain": [
       "5"
      ]
     },
     "execution_count": 47,
     "metadata": {},
     "output_type": "execute_result"
    }
   ],
   "source": [
    "sammy[0]"
   ]
  },
  {
   "cell_type": "code",
   "execution_count": 51,
   "id": "3846b783",
   "metadata": {},
   "outputs": [
    {
     "data": {
      "text/plain": [
       "5"
      ]
     },
     "execution_count": 51,
     "metadata": {},
     "output_type": "execute_result"
    }
   ],
   "source": [
    "sammy.age"
   ]
  },
  {
   "cell_type": "code",
   "execution_count": null,
   "id": "79c8d7ad",
   "metadata": {},
   "outputs": [],
   "source": []
  }
 ],
 "metadata": {
  "kernelspec": {
   "display_name": "Python 3 (ipykernel)",
   "language": "python",
   "name": "python3"
  },
  "language_info": {
   "codemirror_mode": {
    "name": "ipython",
    "version": 3
   },
   "file_extension": ".py",
   "mimetype": "text/x-python",
   "name": "python",
   "nbconvert_exporter": "python",
   "pygments_lexer": "ipython3",
   "version": "3.9.12"
  }
 },
 "nbformat": 4,
 "nbformat_minor": 5
}
