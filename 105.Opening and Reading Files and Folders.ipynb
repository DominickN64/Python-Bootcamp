{
 "cells": [
  {
   "cell_type": "code",
   "execution_count": 2,
   "id": "0dc56e6d",
   "metadata": {},
   "outputs": [
    {
     "data": {
      "text/plain": [
       "'C:\\\\Users\\\\domin\\\\MY PYTHON STUFF'"
      ]
     },
     "execution_count": 2,
     "metadata": {},
     "output_type": "execute_result"
    }
   ],
   "source": [
    "pwd"
   ]
  },
  {
   "cell_type": "code",
   "execution_count": 4,
   "id": "756f902b",
   "metadata": {},
   "outputs": [],
   "source": [
    "f = open('practice.txt','w+')\n",
    "f.write('This is a test string')\n",
    "f.close()"
   ]
  },
  {
   "cell_type": "code",
   "execution_count": 5,
   "id": "05af1475",
   "metadata": {},
   "outputs": [],
   "source": [
    "import os"
   ]
  },
  {
   "cell_type": "code",
   "execution_count": 7,
   "id": "50405f55",
   "metadata": {},
   "outputs": [
    {
     "data": {
      "text/plain": [
       "'C:\\\\Users\\\\domin\\\\MY PYTHON STUFF'"
      ]
     },
     "execution_count": 7,
     "metadata": {},
     "output_type": "execute_result"
    }
   ],
   "source": [
    "os.getcwd()"
   ]
  },
  {
   "cell_type": "code",
   "execution_count": 11,
   "id": "dd9897c3",
   "metadata": {},
   "outputs": [
    {
     "data": {
      "text/plain": [
       "['All Users',\n",
       " 'Default',\n",
       " 'Default User',\n",
       " 'defaultuser100000',\n",
       " 'desktop.ini',\n",
       " 'domin',\n",
       " 'Jimmernick',\n",
       " 'ntuser.dat',\n",
       " 'ntuser.dat.LOG1',\n",
       " 'ntuser.dat.LOG2',\n",
       " 'Public']"
      ]
     },
     "execution_count": 11,
     "metadata": {},
     "output_type": "execute_result"
    }
   ],
   "source": [
    "os.listdir('C:\\\\Users')"
   ]
  },
  {
   "cell_type": "code",
   "execution_count": 13,
   "id": "1c592325",
   "metadata": {},
   "outputs": [
    {
     "data": {
      "text/plain": [
       "['.ipynb_checkpoints',\n",
       " '100. Generators with python.ipynb',\n",
       " '104. python collections module.ipynb',\n",
       " '105.Opening and Reading Files and Folders.ipynb',\n",
       " '12. arithmetic operations.ipynb',\n",
       " '14. intro to variable assignments.ipynb',\n",
       " '15. intro to strings.ipynb',\n",
       " '16. indexing with slicing and strings.ipynb',\n",
       " '17. string properties and methods .ipynb',\n",
       " '19. print formatting with strings.ipynb',\n",
       " '21. lists in python.ipynb',\n",
       " '23. dictionaries in python.ipynb',\n",
       " '25. tuples.ipynb',\n",
       " '26. sets.ipynb',\n",
       " '27. Booleans.ipynb',\n",
       " '28. io files.ipynb',\n",
       " '3 ball game by myself.ipynb',\n",
       " '3 Balls Game.ipynb',\n",
       " '33. Chaining comparison operators in python with logical operators.ipynb',\n",
       " '34. if, elif, and else.ipynb',\n",
       " '35. For loops.ipynb',\n",
       " '36. While loops.ipynb',\n",
       " '37. useful operators.ipynb',\n",
       " '38. list comprehensions.ipynb',\n",
       " '41. methods and python documentation.ipynb',\n",
       " '43. def keyword.ipynb',\n",
       " '44. Basics of python functions.ipynb',\n",
       " '45. Logic with python functions.ipynb',\n",
       " '46. tuple unpacking with python functions.ipynb',\n",
       " '47. Interactions between python functions.ipynb',\n",
       " '49. args and kwargs.ipynb',\n",
       " '55. Lambda Expressions Map and Filter.ipynb',\n",
       " '56. Nested Statements and scope.ipynb',\n",
       " '60. Displaying information 61. Accepting User input 62. Validating User Input.ipynb',\n",
       " '63. Simple User Interaction.ipynb',\n",
       " '69. Object Oriented Programming Attributes and Class keyword, 70. Class Object attributes and methods.ipynb',\n",
       " '71.Object Oriented Programming - Inheritance and Polymorphism.ipynb',\n",
       " '72. OOP Special (Magic and Dunder) Methods.ipynb',\n",
       " '80. Errors and Exception Handling.ipynb',\n",
       " '98. Decorators with python.ipynb',\n",
       " 'blackjack.ipynb',\n",
       " 'cap.py',\n",
       " 'Clock.py',\n",
       " 'COURSE CONTENT NOTES',\n",
       " 'karan.py',\n",
       " 'practice.txt',\n",
       " 'random practice.ipynb',\n",
       " 'simple1.py',\n",
       " 'test book.ipynb',\n",
       " 'testbj.py',\n",
       " 'testbj2.py',\n",
       " 'testfile',\n",
       " 'test_cap.py',\n",
       " 'tic tac toe.ipynb',\n",
       " 'Untitled.ipynb',\n",
       " 'Untitled1.ipynb',\n",
       " 'Untitled2.ipynb',\n",
       " 'Untitled3.ipynb',\n",
       " 'Untitled4.ipynb',\n",
       " 'Untitled5.ipynb',\n",
       " 'Untitled6.ipynb',\n",
       " 'War.ipynb',\n",
       " '__pycache__']"
      ]
     },
     "execution_count": 13,
     "metadata": {},
     "output_type": "execute_result"
    }
   ],
   "source": [
    "os.listdir()"
   ]
  },
  {
   "cell_type": "code",
   "execution_count": 14,
   "id": "1197d326",
   "metadata": {},
   "outputs": [],
   "source": [
    "import shutil"
   ]
  },
  {
   "cell_type": "code",
   "execution_count": 18,
   "id": "d4409757",
   "metadata": {},
   "outputs": [
    {
     "ename": "Error",
     "evalue": "Destination path 'C:\\Users\\domin\\practice.txt' already exists",
     "output_type": "error",
     "traceback": [
      "\u001b[1;31m---------------------------------------------------------------------------\u001b[0m",
      "\u001b[1;31mError\u001b[0m                                     Traceback (most recent call last)",
      "Input \u001b[1;32mIn [18]\u001b[0m, in \u001b[0;36m<cell line: 1>\u001b[1;34m()\u001b[0m\n\u001b[1;32m----> 1\u001b[0m \u001b[43mshutil\u001b[49m\u001b[38;5;241;43m.\u001b[39;49m\u001b[43mmove\u001b[49m\u001b[43m(\u001b[49m\u001b[38;5;124;43m\"\u001b[39;49m\u001b[38;5;124;43mpractice.txt\u001b[39;49m\u001b[38;5;124;43m\"\u001b[39;49m\u001b[43m,\u001b[49m\u001b[38;5;124;43m\"\u001b[39;49m\u001b[38;5;124;43mC:\u001b[39;49m\u001b[38;5;130;43;01m\\\\\u001b[39;49;00m\u001b[38;5;124;43mUsers\u001b[39;49m\u001b[38;5;130;43;01m\\\\\u001b[39;49;00m\u001b[38;5;124;43mdomin\u001b[39;49m\u001b[38;5;124;43m\"\u001b[39;49m\u001b[43m)\u001b[49m\n",
      "File \u001b[1;32m~\\anaconda3\\lib\\shutil.py:821\u001b[0m, in \u001b[0;36mmove\u001b[1;34m(src, dst, copy_function)\u001b[0m\n\u001b[0;32m    818\u001b[0m     real_dst \u001b[38;5;241m=\u001b[39m os\u001b[38;5;241m.\u001b[39mpath\u001b[38;5;241m.\u001b[39mjoin(dst, _basename(src))\n\u001b[0;32m    820\u001b[0m     \u001b[38;5;28;01mif\u001b[39;00m os\u001b[38;5;241m.\u001b[39mpath\u001b[38;5;241m.\u001b[39mexists(real_dst):\n\u001b[1;32m--> 821\u001b[0m         \u001b[38;5;28;01mraise\u001b[39;00m Error(\u001b[38;5;124m\"\u001b[39m\u001b[38;5;124mDestination path \u001b[39m\u001b[38;5;124m'\u001b[39m\u001b[38;5;132;01m%s\u001b[39;00m\u001b[38;5;124m'\u001b[39m\u001b[38;5;124m already exists\u001b[39m\u001b[38;5;124m\"\u001b[39m \u001b[38;5;241m%\u001b[39m real_dst)\n\u001b[0;32m    822\u001b[0m \u001b[38;5;28;01mtry\u001b[39;00m:\n\u001b[0;32m    823\u001b[0m     os\u001b[38;5;241m.\u001b[39mrename(src, real_dst)\n",
      "\u001b[1;31mError\u001b[0m: Destination path 'C:\\Users\\domin\\practice.txt' already exists"
     ]
    }
   ],
   "source": [
    "shutil.move(\"practice.txt\",\"C:\\\\Users\\\\domin\")"
   ]
  },
  {
   "cell_type": "code",
   "execution_count": 22,
   "id": "dddac8a1",
   "metadata": {},
   "outputs": [
    {
     "data": {
      "text/plain": [
       "['.anaconda',\n",
       " '.android',\n",
       " '.conda',\n",
       " '.condarc',\n",
       " '.continuum',\n",
       " '.dotnet',\n",
       " '.gitconfig',\n",
       " '.ipynb_checkpoints',\n",
       " '.ipython',\n",
       " '.jupyter',\n",
       " '.nuget',\n",
       " '.Origin',\n",
       " '.pylint.d',\n",
       " '.python_history',\n",
       " '.QtWebEngineProcess',\n",
       " '.templateengine',\n",
       " '.vscode',\n",
       " '3D Objects',\n",
       " 'anaconda3',\n",
       " 'ansel',\n",
       " 'AppData',\n",
       " 'Application Data',\n",
       " 'Contacts',\n",
       " 'Cookies',\n",
       " 'Creative Cloud Files',\n",
       " 'Desktop',\n",
       " 'Documents',\n",
       " 'Downloads',\n",
       " 'Favorites',\n",
       " 'iCloudDrive',\n",
       " 'Links',\n",
       " 'Local Settings',\n",
       " 'MicrosoftEdgeBackups',\n",
       " 'Music',\n",
       " 'My Documents',\n",
       " 'MY PYTHON STUFF',\n",
       " 'NetHood',\n",
       " 'Notepad++',\n",
       " 'NTUSER.DAT',\n",
       " 'ntuser.dat.LOG1',\n",
       " 'ntuser.dat.LOG2',\n",
       " 'NTUSER.DAT{53b39e88-18c4-11ea-a811-000d3aa4692b}.TM.blf',\n",
       " 'NTUSER.DAT{53b39e88-18c4-11ea-a811-000d3aa4692b}.TMContainer00000000000000000001.regtrans-ms',\n",
       " 'NTUSER.DAT{53b39e88-18c4-11ea-a811-000d3aa4692b}.TMContainer00000000000000000002.regtrans-ms',\n",
       " 'ntuser.ini',\n",
       " 'OneDrive',\n",
       " 'OneDrive - Long Island University',\n",
       " 'Pictures',\n",
       " 'practice.txt',\n",
       " 'PrintHood',\n",
       " 'Recent',\n",
       " 'Saved Games',\n",
       " 'Searches',\n",
       " 'SendTo',\n",
       " 'source',\n",
       " 'Start Menu',\n",
       " 'Templates',\n",
       " 'Tracing',\n",
       " 'Videos']"
      ]
     },
     "execution_count": 22,
     "metadata": {},
     "output_type": "execute_result"
    }
   ],
   "source": [
    "os.listdir('C:\\\\Users\\\\domin')"
   ]
  },
  {
   "cell_type": "code",
   "execution_count": 24,
   "id": "4100d215",
   "metadata": {},
   "outputs": [],
   "source": [
    "import send2trash"
   ]
  },
  {
   "cell_type": "code",
   "execution_count": 29,
   "id": "72cad060",
   "metadata": {},
   "outputs": [
    {
     "data": {
      "text/plain": [
       "'C:\\\\Users\\\\domin\\\\MY PYTHON STUFF\\\\practice.txt'"
      ]
     },
     "execution_count": 29,
     "metadata": {},
     "output_type": "execute_result"
    }
   ],
   "source": [
    "shutil.move(\"C:\\\\Users\\\\domin\\\\practice.txt\",os.getcwd())"
   ]
  },
  {
   "cell_type": "code",
   "execution_count": 33,
   "id": "72bc82e6",
   "metadata": {},
   "outputs": [
    {
     "data": {
      "text/plain": [
       "['.ipynb_checkpoints',\n",
       " '100. Generators with python.ipynb',\n",
       " '104. python collections module.ipynb',\n",
       " '105.Opening and Reading Files and Folders.ipynb',\n",
       " '12. arithmetic operations.ipynb',\n",
       " '14. intro to variable assignments.ipynb',\n",
       " '15. intro to strings.ipynb',\n",
       " '16. indexing with slicing and strings.ipynb',\n",
       " '17. string properties and methods .ipynb',\n",
       " '19. print formatting with strings.ipynb',\n",
       " '21. lists in python.ipynb',\n",
       " '23. dictionaries in python.ipynb',\n",
       " '25. tuples.ipynb',\n",
       " '26. sets.ipynb',\n",
       " '27. Booleans.ipynb',\n",
       " '28. io files.ipynb',\n",
       " '3 ball game by myself.ipynb',\n",
       " '3 Balls Game.ipynb',\n",
       " '33. Chaining comparison operators in python with logical operators.ipynb',\n",
       " '34. if, elif, and else.ipynb',\n",
       " '35. For loops.ipynb',\n",
       " '36. While loops.ipynb',\n",
       " '37. useful operators.ipynb',\n",
       " '38. list comprehensions.ipynb',\n",
       " '41. methods and python documentation.ipynb',\n",
       " '43. def keyword.ipynb',\n",
       " '44. Basics of python functions.ipynb',\n",
       " '45. Logic with python functions.ipynb',\n",
       " '46. tuple unpacking with python functions.ipynb',\n",
       " '47. Interactions between python functions.ipynb',\n",
       " '49. args and kwargs.ipynb',\n",
       " '55. Lambda Expressions Map and Filter.ipynb',\n",
       " '56. Nested Statements and scope.ipynb',\n",
       " '60. Displaying information 61. Accepting User input 62. Validating User Input.ipynb',\n",
       " '63. Simple User Interaction.ipynb',\n",
       " '69. Object Oriented Programming Attributes and Class keyword, 70. Class Object attributes and methods.ipynb',\n",
       " '71.Object Oriented Programming - Inheritance and Polymorphism.ipynb',\n",
       " '72. OOP Special (Magic and Dunder) Methods.ipynb',\n",
       " '80. Errors and Exception Handling.ipynb',\n",
       " '98. Decorators with python.ipynb',\n",
       " 'blackjack.ipynb',\n",
       " 'cap.py',\n",
       " 'Clock.py',\n",
       " 'COURSE CONTENT NOTES',\n",
       " 'karan.py',\n",
       " 'random practice.ipynb',\n",
       " 'simple1.py',\n",
       " 'test book.ipynb',\n",
       " 'testbj.py',\n",
       " 'testbj2.py',\n",
       " 'testfile',\n",
       " 'test_cap.py',\n",
       " 'tic tac toe.ipynb',\n",
       " 'Untitled.ipynb',\n",
       " 'Untitled1.ipynb',\n",
       " 'Untitled2.ipynb',\n",
       " 'Untitled3.ipynb',\n",
       " 'Untitled4.ipynb',\n",
       " 'Untitled5.ipynb',\n",
       " 'Untitled6.ipynb',\n",
       " 'War.ipynb',\n",
       " '__pycache__']"
      ]
     },
     "execution_count": 33,
     "metadata": {},
     "output_type": "execute_result"
    }
   ],
   "source": [
    "os.listdir()"
   ]
  },
  {
   "cell_type": "code",
   "execution_count": 32,
   "id": "f27a51c8",
   "metadata": {},
   "outputs": [],
   "source": [
    "send2trash.send2trash('practice.txt')"
   ]
  },
  {
   "cell_type": "code",
   "execution_count": 36,
   "id": "bbc6a0f7",
   "metadata": {},
   "outputs": [],
   "source": [
    "filepath = 'C:\\\\Users\\\\domin\\\\MY PYTHON STUFF\\\\\\COURSE CONTENT NOTES\\\\Complete-Python-3-Bootcamp-master\\\\Complete-Python-3-Bootcamp-master\\\\12-Advanced Python Modules\\\\Example_Top_Level'"
   ]
  },
  {
   "cell_type": "code",
   "execution_count": 39,
   "id": "bf29ca9e",
   "metadata": {},
   "outputs": [
    {
     "name": "stdout",
     "output_type": "stream",
     "text": [
      "C:\\Users\\domin\\MY PYTHON STUFF\\\\COURSE CONTENT NOTES\\Complete-Python-3-Bootcamp-master\\Complete-Python-3-Bootcamp-master\\12-Advanced Python Modules\\Example_Top_Level\n",
      "['Mid-Example-One']\n",
      "['Mid-Example.txt']\n",
      "C:\\Users\\domin\\MY PYTHON STUFF\\\\COURSE CONTENT NOTES\\Complete-Python-3-Bootcamp-master\\Complete-Python-3-Bootcamp-master\\12-Advanced Python Modules\\Example_Top_Level\\Mid-Example-One\n",
      "['Bottom-Level-One', 'Bottom-Level-Two']\n",
      "['Mid-Level-Doc.txt']\n",
      "C:\\Users\\domin\\MY PYTHON STUFF\\\\COURSE CONTENT NOTES\\Complete-Python-3-Bootcamp-master\\Complete-Python-3-Bootcamp-master\\12-Advanced Python Modules\\Example_Top_Level\\Mid-Example-One\\Bottom-Level-One\n",
      "[]\n",
      "['One_Text.txt']\n",
      "C:\\Users\\domin\\MY PYTHON STUFF\\\\COURSE CONTENT NOTES\\Complete-Python-3-Bootcamp-master\\Complete-Python-3-Bootcamp-master\\12-Advanced Python Modules\\Example_Top_Level\\Mid-Example-One\\Bottom-Level-Two\n",
      "[]\n",
      "['Bottom-Text-Two.txt']\n"
     ]
    }
   ],
   "source": [
    "for folder, sub_folders,files in os.walk(filepath):\n",
    "    print(folder)\n",
    "    print(sub_folders)\n",
    "    print(files)"
   ]
  },
  {
   "cell_type": "code",
   "execution_count": 40,
   "id": "981ac025",
   "metadata": {},
   "outputs": [
    {
     "name": "stdout",
     "output_type": "stream",
     "text": [
      "currently looking at C:\\Users\\domin\\MY PYTHON STUFF\\\\COURSE CONTENT NOTES\\Complete-Python-3-Bootcamp-master\\Complete-Python-3-Bootcamp-master\\12-Advanced Python Modules\\Example_Top_Level\n",
      "\n",
      "\n",
      "the subfolders are: \n",
      "\t subfolder: Mid-Example-One\n",
      "\n",
      "\n",
      "the files are: \n",
      "\t File: Mid-Example.txt\n",
      "\n",
      "\n",
      "currently looking at C:\\Users\\domin\\MY PYTHON STUFF\\\\COURSE CONTENT NOTES\\Complete-Python-3-Bootcamp-master\\Complete-Python-3-Bootcamp-master\\12-Advanced Python Modules\\Example_Top_Level\\Mid-Example-One\n",
      "\n",
      "\n",
      "the subfolders are: \n",
      "\t subfolder: Bottom-Level-One\n",
      "\t subfolder: Bottom-Level-Two\n",
      "\n",
      "\n",
      "the files are: \n",
      "\t File: Mid-Level-Doc.txt\n",
      "\n",
      "\n",
      "currently looking at C:\\Users\\domin\\MY PYTHON STUFF\\\\COURSE CONTENT NOTES\\Complete-Python-3-Bootcamp-master\\Complete-Python-3-Bootcamp-master\\12-Advanced Python Modules\\Example_Top_Level\\Mid-Example-One\\Bottom-Level-One\n",
      "\n",
      "\n",
      "the subfolders are: \n",
      "\n",
      "\n",
      "the files are: \n",
      "\t File: One_Text.txt\n",
      "\n",
      "\n",
      "currently looking at C:\\Users\\domin\\MY PYTHON STUFF\\\\COURSE CONTENT NOTES\\Complete-Python-3-Bootcamp-master\\Complete-Python-3-Bootcamp-master\\12-Advanced Python Modules\\Example_Top_Level\\Mid-Example-One\\Bottom-Level-Two\n",
      "\n",
      "\n",
      "the subfolders are: \n",
      "\n",
      "\n",
      "the files are: \n",
      "\t File: Bottom-Text-Two.txt\n",
      "\n",
      "\n"
     ]
    }
   ],
   "source": [
    "for folder,sub_folders,files in os.walk(filepath):\n",
    "    print(f'currently looking at {folder}')\n",
    "    print('\\n')\n",
    "    print('the subfolders are: ')\n",
    "    for sub_fold in sub_folders:\n",
    "        print(f\"\\t subfolder: {sub_fold}\")\n",
    "        \n",
    "    print('\\n')\n",
    "    print(\"the files are: \")\n",
    "    for f in files:\n",
    "        print(f\"\\t File: {f}\")\n",
    "    print('\\n')"
   ]
  }
 ],
 "metadata": {
  "kernelspec": {
   "display_name": "Python 3 (ipykernel)",
   "language": "python",
   "name": "python3"
  },
  "language_info": {
   "codemirror_mode": {
    "name": "ipython",
    "version": 3
   },
   "file_extension": ".py",
   "mimetype": "text/x-python",
   "name": "python",
   "nbconvert_exporter": "python",
   "pygments_lexer": "ipython3",
   "version": "3.9.12"
  }
 },
 "nbformat": 4,
 "nbformat_minor": 5
}
