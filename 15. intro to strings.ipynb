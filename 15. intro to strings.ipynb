{
 "cells": [
  {
   "cell_type": "code",
   "execution_count": 3,
   "id": "ea815f1f",
   "metadata": {},
   "outputs": [
    {
     "name": "stdout",
     "output_type": "stream",
     "text": [
      "hello \tworld\n"
     ]
    }
   ],
   "source": [
    "print('hello \\tworld') #/t means add a tab\n"
   ]
  },
  {
   "cell_type": "code",
   "execution_count": 5,
   "id": "8c86aa9f",
   "metadata": {},
   "outputs": [
    {
     "name": "stdout",
     "output_type": "stream",
     "text": [
      "hello world\n"
     ]
    }
   ],
   "source": [
    "print('hello world')  #calling a string to be printed"
   ]
  },
  {
   "cell_type": "code",
   "execution_count": 6,
   "id": "3be7652e",
   "metadata": {},
   "outputs": [
    {
     "data": {
      "text/plain": [
       "'hello world'"
      ]
     },
     "execution_count": 6,
     "metadata": {},
     "output_type": "execute_result"
    }
   ],
   "source": [
    "'hello world'    #calling a string will make it stay in string form"
   ]
  },
  {
   "cell_type": "code",
   "execution_count": 9,
   "id": "51016151",
   "metadata": {},
   "outputs": [
    {
     "data": {
      "text/plain": [
       "'hello son'"
      ]
     },
     "execution_count": 9,
     "metadata": {},
     "output_type": "execute_result"
    }
   ],
   "source": [
    "'hello son'"
   ]
  },
  {
   "cell_type": "code",
   "execution_count": 2,
   "id": "d2f1d128",
   "metadata": {},
   "outputs": [
    {
     "name": "stdout",
     "output_type": "stream",
     "text": [
      "what is your name\n"
     ]
    }
   ],
   "source": [
    "print('what is your name')"
   ]
  },
  {
   "cell_type": "code",
   "execution_count": 3,
   "id": "e18d777f",
   "metadata": {},
   "outputs": [],
   "source": [
    "x ='chinese food'"
   ]
  },
  {
   "cell_type": "code",
   "execution_count": 4,
   "id": "1bb933df",
   "metadata": {},
   "outputs": [
    {
     "data": {
      "text/plain": [
       "'chinese food'"
      ]
     },
     "execution_count": 4,
     "metadata": {},
     "output_type": "execute_result"
    }
   ],
   "source": [
    "x"
   ]
  }
 ],
 "metadata": {
  "kernelspec": {
   "display_name": "Python 3.9.12 ('base')",
   "language": "python",
   "name": "python3"
  },
  "language_info": {
   "codemirror_mode": {
    "name": "ipython",
    "version": 3
   },
   "file_extension": ".py",
   "mimetype": "text/x-python",
   "name": "python",
   "nbconvert_exporter": "python",
   "pygments_lexer": "ipython3",
   "version": "3.9.12"
  },
  "vscode": {
   "interpreter": {
    "hash": "86a6feb1a6fecea27d619e2dbbc2ccb7691ddc89c77e6f1e0e9ad857efd275d2"
   }
  }
 },
 "nbformat": 4,
 "nbformat_minor": 5
}
