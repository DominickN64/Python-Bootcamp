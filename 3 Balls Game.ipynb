{
 "cells": [
  {
   "cell_type": "code",
   "execution_count": 1,
   "id": "3261b175",
   "metadata": {},
   "outputs": [],
   "source": [
    "def shuffle_list(x):\n",
    "    shuffle(x)\n",
    "    return mylist"
   ]
  },
  {
   "cell_type": "code",
   "execution_count": 2,
   "id": "cb9bc22e",
   "metadata": {},
   "outputs": [],
   "source": [
    "def player_guess():\n",
    "    guess=''\n",
    "    \n",
    "    while guess not in ['0','1','2']:\n",
    "        guess = input(\"Pick a number: 0,1, or 2:    \")\n",
    "        \n",
    "    return int(guess)\n"
   ]
  },
  {
   "cell_type": "code",
   "execution_count": 10,
   "id": "9ecd72db",
   "metadata": {},
   "outputs": [],
   "source": [
    "def check_guess(x,y):\n",
    "    if mylist[guess] == 'O':\n",
    "        print('Correct')\n",
    "        print(mylist)\n",
    "    \n",
    "    else:\n",
    "        print('Sorry Try Again')\n",
    "        print(mylist)"
   ]
  },
  {
   "cell_type": "code",
   "execution_count": 13,
   "id": "29527890",
   "metadata": {},
   "outputs": [
    {
     "name": "stdout",
     "output_type": "stream",
     "text": [
      "Pick a number: 0,1, or 2:    1\n",
      "Sorry Try Again\n",
      "['O', '', '']\n"
     ]
    }
   ],
   "source": [
    "#Initial list\n",
    "mylist = ['','O','']\n",
    "#shuffle list\n",
    "mixedup_list = shuffle_list(mylist)\n",
    "#user guess\n",
    "guess = player_guess()\n",
    "#check guess\n",
    "check_guess(mixedup_list,guess)"
   ]
  }
 ],
 "metadata": {
  "kernelspec": {
   "display_name": "Python 3 (ipykernel)",
   "language": "python",
   "name": "python3"
  },
  "language_info": {
   "codemirror_mode": {
    "name": "ipython",
    "version": 3
   },
   "file_extension": ".py",
   "mimetype": "text/x-python",
   "name": "python",
   "nbconvert_exporter": "python",
   "pygments_lexer": "ipython3",
   "version": "3.9.12"
  }
 },
 "nbformat": 4,
 "nbformat_minor": 5
}
