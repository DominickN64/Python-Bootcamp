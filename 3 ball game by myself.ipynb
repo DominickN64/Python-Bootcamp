{
 "cells": [
  {
   "cell_type": "code",
   "execution_count": 51,
   "id": "e2cd85ea",
   "metadata": {},
   "outputs": [],
   "source": [
    "mylist = ['','O','']"
   ]
  },
  {
   "cell_type": "code",
   "execution_count": 64,
   "id": "f5c3231f",
   "metadata": {},
   "outputs": [],
   "source": [
    "def shufflelist(x):\n",
    "    shuffle(x)\n",
    "    return x \n",
    "    "
   ]
  },
  {
   "cell_type": "code",
   "execution_count": 65,
   "id": "c38617eb",
   "metadata": {},
   "outputs": [],
   "source": [
    "def choose_a_ball():\n",
    "    result = ''\n",
    "    \n",
    "    while result not in ['0','1','2']:\n",
    "        result = input(\"Choose if ball is in 0,1 or 2\")\n",
    "        \n",
    "    return int(result)\n"
   ]
  },
  {
   "cell_type": "code",
   "execution_count": 66,
   "id": "06bc3494",
   "metadata": {},
   "outputs": [],
   "source": [
    "def was_it_right(mylist,result):\n",
    "    if mylist[result] == 'O':\n",
    "        print('Correct!')\n",
    "        print(mylist)\n",
    "        \n",
    "    else:\n",
    "        print('Sorry Shallot Man')\n",
    "        print(mylist)"
   ]
  },
  {
   "cell_type": "code",
   "execution_count": 71,
   "id": "8f585576",
   "metadata": {},
   "outputs": [
    {
     "name": "stdout",
     "output_type": "stream",
     "text": [
      "Choose if ball is in 0,1 or 21\n",
      "Sorry Shallot Man\n",
      "['', '', 'O']\n"
     ]
    }
   ],
   "source": [
    "shufflelist(mylist)\n",
    "final_answer = choose_a_ball()\n",
    "was_it_right(mylist,final_answer)"
   ]
  }
 ],
 "metadata": {
  "kernelspec": {
   "display_name": "Python 3 (ipykernel)",
   "language": "python",
   "name": "python3"
  },
  "language_info": {
   "codemirror_mode": {
    "name": "ipython",
    "version": 3
   },
   "file_extension": ".py",
   "mimetype": "text/x-python",
   "name": "python",
   "nbconvert_exporter": "python",
   "pygments_lexer": "ipython3",
   "version": "3.9.12"
  }
 },
 "nbformat": 4,
 "nbformat_minor": 5
}
