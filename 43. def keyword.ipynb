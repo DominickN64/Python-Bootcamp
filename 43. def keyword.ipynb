{
 "cells": [
  {
   "cell_type": "code",
   "execution_count": 2,
   "id": "729d0258",
   "metadata": {},
   "outputs": [],
   "source": [
    " def peachy():\n",
    "        print('eat me')"
   ]
  },
  {
   "cell_type": "code",
   "execution_count": 5,
   "id": "3f71b8d3",
   "metadata": {},
   "outputs": [
    {
     "name": "stdout",
     "output_type": "stream",
     "text": [
      "eat me\n"
     ]
    }
   ],
   "source": [
    "peachy()"
   ]
  },
  {
   "cell_type": "code",
   "execution_count": 34,
   "id": "d9341d32",
   "metadata": {},
   "outputs": [],
   "source": [
    "def jose_walks_past_me(name):\n",
    "        print('Hello ' + name)"
   ]
  },
  {
   "cell_type": "code",
   "execution_count": 35,
   "id": "ccf4644e",
   "metadata": {},
   "outputs": [
    {
     "name": "stdout",
     "output_type": "stream",
     "text": [
      "Hello Jose\n"
     ]
    }
   ],
   "source": [
    "iseejose = jose_walks_past_me('Jose')"
   ]
  },
  {
   "cell_type": "code",
   "execution_count": 22,
   "id": "3a8a4f57",
   "metadata": {},
   "outputs": [],
   "source": [
    "def add_two_numbers(num1,num2):\n",
    "    return num1 + num2"
   ]
  },
  {
   "cell_type": "code",
   "execution_count": 29,
   "id": "61cbb259",
   "metadata": {},
   "outputs": [],
   "source": [
    "result = add_two_numbers(10,9)"
   ]
  },
  {
   "cell_type": "code",
   "execution_count": 32,
   "id": "3f1d704d",
   "metadata": {},
   "outputs": [
    {
     "data": {
      "text/plain": [
       "19"
      ]
     },
     "execution_count": 32,
     "metadata": {},
     "output_type": "execute_result"
    }
   ],
   "source": [
    "result"
   ]
  },
  {
   "cell_type": "code",
   "execution_count": 33,
   "id": "682f4cfb",
   "metadata": {},
   "outputs": [],
   "source": [
    "iseejose"
   ]
  }
 ],
 "metadata": {
  "kernelspec": {
   "display_name": "Python 3 (ipykernel)",
   "language": "python",
   "name": "python3"
  },
  "language_info": {
   "codemirror_mode": {
    "name": "ipython",
    "version": 3
   },
   "file_extension": ".py",
   "mimetype": "text/x-python",
   "name": "python",
   "nbconvert_exporter": "python",
   "pygments_lexer": "ipython3",
   "version": "3.9.12"
  }
 },
 "nbformat": 4,
 "nbformat_minor": 5
}
