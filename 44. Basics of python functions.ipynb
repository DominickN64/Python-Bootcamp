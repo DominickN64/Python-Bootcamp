{
 "cells": [
  {
   "cell_type": "code",
   "execution_count": 5,
   "id": "d9b21c4c",
   "metadata": {},
   "outputs": [],
   "source": [
    "def say_hello():\n",
    "    print('hello')\n",
    "    print('how')\n",
    "    print('are')\n",
    "    print('you')"
   ]
  },
  {
   "cell_type": "code",
   "execution_count": 6,
   "id": "220e5b48",
   "metadata": {},
   "outputs": [
    {
     "name": "stdout",
     "output_type": "stream",
     "text": [
      "hello\n",
      "how\n",
      "are\n",
      "you\n"
     ]
    }
   ],
   "source": [
    "say_hello()"
   ]
  },
  {
   "cell_type": "code",
   "execution_count": 20,
   "id": "2e8f4b62",
   "metadata": {},
   "outputs": [],
   "source": [
    "def say_hello(name):\n",
    "    print('Hello {} you are {}'.format(name,'gay'))"
   ]
  },
  {
   "cell_type": "code",
   "execution_count": 21,
   "id": "95e0eecb",
   "metadata": {},
   "outputs": [
    {
     "name": "stdout",
     "output_type": "stream",
     "text": [
      "Hello KADEE you are gay\n"
     ]
    }
   ],
   "source": [
    "say_hello('KADEE')"
   ]
  },
  {
   "cell_type": "code",
   "execution_count": 26,
   "id": "37a16b8e",
   "metadata": {},
   "outputs": [],
   "source": [
    "def say_goodbye(name):\n",
    "    print(f'BYE {name}')"
   ]
  },
  {
   "cell_type": "code",
   "execution_count": 28,
   "id": "679fb52c",
   "metadata": {},
   "outputs": [
    {
     "name": "stdout",
     "output_type": "stream",
     "text": [
      "BYE maxwell\n"
     ]
    }
   ],
   "source": [
    "say_goodbye('maxwell')"
   ]
  },
  {
   "cell_type": "code",
   "execution_count": 30,
   "id": "b17b2547",
   "metadata": {},
   "outputs": [],
   "source": [
    "def say_cosicosi(x = 'applejacks'):\n",
    "    print(f'CosiCosi {x}')"
   ]
  },
  {
   "cell_type": "code",
   "execution_count": 33,
   "id": "02e1828a",
   "metadata": {},
   "outputs": [
    {
     "name": "stdout",
     "output_type": "stream",
     "text": [
      "CosiCosi applejacks\n"
     ]
    }
   ],
   "source": [
    "say_cosicosi()"
   ]
  },
  {
   "cell_type": "code",
   "execution_count": 41,
   "id": "dccd8b23",
   "metadata": {},
   "outputs": [],
   "source": [
    "def add_num(num1,num2):\n",
    "    return num1 + num2"
   ]
  },
  {
   "cell_type": "code",
   "execution_count": 42,
   "id": "a3aec8fc",
   "metadata": {},
   "outputs": [
    {
     "data": {
      "text/plain": [
       "30"
      ]
     },
     "execution_count": 42,
     "metadata": {},
     "output_type": "execute_result"
    }
   ],
   "source": [
    "add_num(10,20)"
   ]
  }
 ],
 "metadata": {
  "kernelspec": {
   "display_name": "Python 3 (ipykernel)",
   "language": "python",
   "name": "python3"
  },
  "language_info": {
   "codemirror_mode": {
    "name": "ipython",
    "version": 3
   },
   "file_extension": ".py",
   "mimetype": "text/x-python",
   "name": "python",
   "nbconvert_exporter": "python",
   "pygments_lexer": "ipython3",
   "version": "3.9.12"
  }
 },
 "nbformat": 4,
 "nbformat_minor": 5
}
