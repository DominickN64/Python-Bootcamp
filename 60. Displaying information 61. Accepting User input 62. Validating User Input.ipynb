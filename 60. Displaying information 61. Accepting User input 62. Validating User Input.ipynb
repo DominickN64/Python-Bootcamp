{
 "cells": [
  {
   "cell_type": "code",
   "execution_count": 15,
   "id": "270ad8f8",
   "metadata": {},
   "outputs": [],
   "source": [
    "row1 = [\" \",\" \",\" \"]\n",
    "row2 = [\" \",\" \",\" \"]\n",
    "row3 = [\" \",\" \",\" \"]"
   ]
  },
  {
   "cell_type": "code",
   "execution_count": 16,
   "id": "6e3db2b7",
   "metadata": {},
   "outputs": [],
   "source": [
    "def display(x,y,z):\n",
    "    print(x)\n",
    "    print(y)\n",
    "    print(z)\n"
   ]
  },
  {
   "cell_type": "code",
   "execution_count": 20,
   "id": "221c7ee7",
   "metadata": {},
   "outputs": [
    {
     "name": "stdout",
     "output_type": "stream",
     "text": [
      "[' ', ' ', ' ']\n",
      "[' ', 'X', ' ']\n",
      "[' ', ' ', ' ']\n"
     ]
    }
   ],
   "source": [
    "display(row1,row2,row3)"
   ]
  },
  {
   "cell_type": "code",
   "execution_count": 19,
   "id": "8152f19a",
   "metadata": {},
   "outputs": [],
   "source": [
    "row2[1] = 'X'"
   ]
  },
  {
   "cell_type": "code",
   "execution_count": 25,
   "id": "b2f653ec",
   "metadata": {},
   "outputs": [
    {
     "name": "stdout",
     "output_type": "stream",
     "text": [
      "Please enter a value: 7\n"
     ]
    }
   ],
   "source": [
    "result = input('Please enter a value: ')"
   ]
  },
  {
   "cell_type": "code",
   "execution_count": 27,
   "id": "66c0f354",
   "metadata": {},
   "outputs": [
    {
     "name": "stdout",
     "output_type": "stream",
     "text": [
      "Choose an index position9\n"
     ]
    }
   ],
   "source": [
    "position_index = int(input('Choose an index position'))"
   ]
  },
  {
   "cell_type": "code",
   "execution_count": 29,
   "id": "1a3a8091",
   "metadata": {},
   "outputs": [
    {
     "data": {
      "text/plain": [
       "9"
      ]
     },
     "execution_count": 29,
     "metadata": {},
     "output_type": "execute_result"
    }
   ],
   "source": [
    "position_index"
   ]
  },
  {
   "cell_type": "code",
   "execution_count": 79,
   "id": "2c8fa6d0",
   "metadata": {},
   "outputs": [],
   "source": [
    "def user_choice():\n",
    "    mylist = range(0,11)\n",
    "    within_range = False\n",
    "    choice = 'Carrot Cake'\n",
    "    \n",
    "    \n",
    "    while choice.isdigit() == False or within_range == False:\n",
    "        \n",
    "        choice = input('Please enter a number (0-10): ')\n",
    "        \n",
    "        #check if choice is an integer\n",
    "        if choice.isdigit() == False:\n",
    "            print('Ayo we need a digit here')\n",
    "        \n",
    "        #check if choice is from 0-10\n",
    "        else:\n",
    "            if int(choice) in mylist:\n",
    "                within_range = True\n",
    "            \n",
    "            else:\n",
    "                print('Ayo that shit aint in range')\n",
    "            \n",
    "            \n",
    "    return int(choice)\n",
    "\n",
    "        \n",
    "    \n",
    "    "
   ]
  },
  {
   "cell_type": "code",
   "execution_count": 80,
   "id": "336e0d57",
   "metadata": {},
   "outputs": [
    {
     "name": "stdout",
     "output_type": "stream",
     "text": [
      "Please enter a number (0-10): two\n",
      "Ayo we need a digit here\n",
      "Please enter a number (0-10): 90\n",
      "Ayo that shit aint in range\n",
      "Please enter a number (0-10): 2\n"
     ]
    },
    {
     "data": {
      "text/plain": [
       "2"
      ]
     },
     "execution_count": 80,
     "metadata": {},
     "output_type": "execute_result"
    }
   ],
   "source": [
    "user_choice()"
   ]
  },
  {
   "cell_type": "code",
   "execution_count": 7,
   "id": "7cf7c21e",
   "metadata": {},
   "outputs": [],
   "source": [
    "some_value = '100'"
   ]
  },
  {
   "cell_type": "code",
   "execution_count": 8,
   "id": "919c6b01",
   "metadata": {},
   "outputs": [
    {
     "data": {
      "text/plain": [
       "True"
      ]
     },
     "execution_count": 8,
     "metadata": {},
     "output_type": "execute_result"
    }
   ],
   "source": [
    "some_value.isdigit()"
   ]
  },
  {
   "cell_type": "code",
   "execution_count": null,
   "id": "c6fee5bb",
   "metadata": {},
   "outputs": [],
   "source": [
    "mylists = [1,2,3,4,5]\n",
    "if 2 in mylists:\n",
    "    print('yay')\n",
    "else:\n",
    "    'NUTS'"
   ]
  }
 ],
 "metadata": {
  "kernelspec": {
   "display_name": "Python 3 (ipykernel)",
   "language": "python",
   "name": "python3"
  },
  "language_info": {
   "codemirror_mode": {
    "name": "ipython",
    "version": 3
   },
   "file_extension": ".py",
   "mimetype": "text/x-python",
   "name": "python",
   "nbconvert_exporter": "python",
   "pygments_lexer": "ipython3",
   "version": "3.9.12"
  }
 },
 "nbformat": 4,
 "nbformat_minor": 5
}
