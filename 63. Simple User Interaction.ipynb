{
 "cells": [
  {
   "cell_type": "code",
   "execution_count": 2,
   "id": "846d465e",
   "metadata": {},
   "outputs": [],
   "source": [
    "def display_game(x):\n",
    "    print(\"Here is the current list\")\n",
    "    print(x)\n",
    "\n"
   ]
  },
  {
   "cell_type": "code",
   "execution_count": 3,
   "id": "f971cbc1",
   "metadata": {},
   "outputs": [],
   "source": [
    "def display_new_game():\n",
    "    print('Here is the new list')\n",
    "    print(game_list)"
   ]
  },
  {
   "cell_type": "code",
   "execution_count": 5,
   "id": "618600ab",
   "metadata": {},
   "outputs": [
    {
     "name": "stdout",
     "output_type": "stream",
     "text": [
      "Here is the current list\n",
      "[0, 1, 2]\n"
     ]
    }
   ],
   "source": [
    "display_game(game_list)"
   ]
  },
  {
   "cell_type": "code",
   "execution_count": 6,
   "id": "1ff39f8c",
   "metadata": {},
   "outputs": [],
   "source": [
    "def grab_user_choice():\n",
    "    valid_range = range(0,3)\n",
    "    choice = 'ham'\n",
    "    \n",
    "    \n",
    "    while choice.isdigit() == False or int(choice) not in valid_range:\n",
    "        choice = input('Which index would you like to change? ')\n",
    "        \n",
    "        if choice.isdigit() == False:\n",
    "            print('Please enter a valid integer')\n",
    "            \n",
    "        else:\n",
    "            if int(choice) not in valid_range:\n",
    "                print('Enter an integer in the range of 0-2')\n",
    "            \n",
    "            \n",
    "    \n",
    "    return int(choice)\n",
    "            \n",
    "        \n",
    "                \n",
    "            \n",
    "        \n",
    "    \n",
    "    \n",
    "    "
   ]
  },
  {
   "cell_type": "code",
   "execution_count": 7,
   "id": "8d17f6f2",
   "metadata": {
    "scrolled": true
   },
   "outputs": [
    {
     "name": "stdout",
     "output_type": "stream",
     "text": [
      "Which index would you like to change? 1\n"
     ]
    },
    {
     "data": {
      "text/plain": [
       "1"
      ]
     },
     "execution_count": 7,
     "metadata": {},
     "output_type": "execute_result"
    }
   ],
   "source": [
    "grab_user_choice()"
   ]
  },
  {
   "cell_type": "code",
   "execution_count": 8,
   "id": "53d8e6ca",
   "metadata": {},
   "outputs": [],
   "source": [
    "def change_index(x,y):\n",
    "    x[y] = input('What would you like to replace this index with? ')\n",
    "    \n",
    "    if x[y].isdigit() == True:\n",
    "        x[y] = int(x[y])\n",
    "   \n",
    "    return x\n",
    "    \n",
    "    "
   ]
  },
  {
   "cell_type": "code",
   "execution_count": 9,
   "id": "c6cd411b",
   "metadata": {},
   "outputs": [],
   "source": [
    "def stop_or_continue():\n",
    "    z = 'sandwhich'\n",
    "    while z != 'Y' and z != 'N':\n",
    "        z = input('Would you like to keep playing? Enter Y for yes or N for no: ')\n",
    "        if z!= \"Y\" and z != 'N':\n",
    "            print('Please input Y or N you goofy ass MF')\n",
    "    \n",
    "    if z == 'Y':\n",
    "        return True\n",
    "        \n",
    "        \n",
    "    \n",
    "    if z == 'N':\n",
    "        print (\"Game Over You Eat Booty Hole\")\n",
    "        return False\n",
    "        "
   ]
  },
  {
   "cell_type": "code",
   "execution_count": 11,
   "id": "b7c18421",
   "metadata": {},
   "outputs": [
    {
     "name": "stdout",
     "output_type": "stream",
     "text": [
      "What would you like to replace this index with? 3\n"
     ]
    },
    {
     "data": {
      "text/plain": [
       "[0, 3, 2]"
      ]
     },
     "execution_count": 11,
     "metadata": {},
     "output_type": "execute_result"
    }
   ],
   "source": [
    "change_index(game_list,1)"
   ]
  },
  {
   "cell_type": "markdown",
   "id": "f7fa0f78",
   "metadata": {},
   "source": [
    "game_on = True\n",
    "game_list = [0,1,2]\n",
    "\n",
    "while game_on:\n",
    "    \n",
    "    display_game(game_list)\n",
    "    \n",
    "    user_choice = grab_user_choice()\n",
    "    \n",
    "    game_list = change_index(game_list,user_choice)\n",
    "    \n",
    "    display_game(game_list)\n",
    "    \n",
    "    game_on = stop_or_continue()\n",
    "    \n",
    "    \n",
    "    \n",
    "\n",
    "   \n"
   ]
  },
  {
   "cell_type": "code",
   "execution_count": 21,
   "id": "f4eeed97",
   "metadata": {},
   "outputs": [
    {
     "name": "stdout",
     "output_type": "stream",
     "text": [
      "Here is the current list\n",
      "[0, 1, 2]\n",
      "Which index would you like to change? 2\n",
      "What would you like to replace this index with? seven\n",
      "Here is the current list\n",
      "[0, 1, 'seven']\n",
      "Would you like to keep playing? Enter Y for yes or N for no: Y\n",
      "Here is the current list\n",
      "[0, 1, 'seven']\n",
      "Which index would you like to change? 8\n",
      "Enter an integer in the range of 0-2\n",
      "Which index would you like to change? 22\n",
      "Enter an integer in the range of 0-2\n",
      "Which index would you like to change? \n",
      "Please enter a valid integer\n",
      "Which index would you like to change? 2\n",
      "What would you like to replace this index with? 3\n",
      "Here is the current list\n",
      "[0, 1, 3]\n",
      "Would you like to keep playing? Enter Y for yes or N for no: N\n",
      "Game Over You Eat Booty Hole\n"
     ]
    }
   ],
   "source": [
    "game_on = True \n",
    "game_list = [0,1,2]\n",
    "\n",
    "while game_on:\n",
    "\n",
    "    display_game(game_list)\n",
    "\n",
    "    user_choice = grab_user_choice()\n",
    "\n",
    "    game_list = change_index(game_list,user_choice)\n",
    "\n",
    "    display_game(game_list)\n",
    "\n",
    "    game_on = stop_or_continue()"
   ]
  }
 ],
 "metadata": {
  "kernelspec": {
   "display_name": "Python 3 (ipykernel)",
   "language": "python",
   "name": "python3"
  },
  "language_info": {
   "codemirror_mode": {
    "name": "ipython",
    "version": 3
   },
   "file_extension": ".py",
   "mimetype": "text/x-python",
   "name": "python",
   "nbconvert_exporter": "python",
   "pygments_lexer": "ipython3",
   "version": "3.9.12"
  }
 },
 "nbformat": 4,
 "nbformat_minor": 5
}
