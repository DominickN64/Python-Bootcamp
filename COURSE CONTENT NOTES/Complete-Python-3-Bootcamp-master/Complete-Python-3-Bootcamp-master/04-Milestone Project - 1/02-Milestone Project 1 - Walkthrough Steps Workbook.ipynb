{
 "cells": [
  {
   "cell_type": "markdown",
   "metadata": {},
   "source": [
    "___\n",
    "\n",
    "<a href='https://www.udemy.com/user/joseportilla/'><img src='../Pierian_Data_Logo.png'/></a>\n",
    "___\n",
    "<center><em>Content Copyright by Pierian Data</em></center>"
   ]
  },
  {
   "cell_type": "markdown",
   "metadata": {},
   "source": [
    "# Milestone Project 1: Walkthrough Steps Workbook\n",
    "\n",
    "Below is a set of steps for you to follow to try to create the Tic Tac Toe Milestone Project game!"
   ]
  },
  {
   "cell_type": "markdown",
   "metadata": {},
   "source": [
    "#### Some suggested tools before you get started:\n",
    "To take input from a user:\n",
    "\n",
    "    player1 = input(\"Please pick a marker 'X' or 'O'\")\n",
    "    \n",
    "Note that input() takes in a string. If you need an integer value, use\n",
    "\n",
    "    position = int(input('Please enter a number'))\n",
    "    \n",
    "<br>To clear the screen between moves:\n",
    "\n",
    "    from IPython.display import clear_output\n",
    "    clear_output()\n",
    "    \n",
    "Note that clear_output() will only work in jupyter. To clear the screen in other IDEs, consider:\n",
    "\n",
    "    print('\\n'*100)\n",
    "    \n",
    "This scrolls the previous board up out of view. Now on to the program!"
   ]
  },
  {
   "cell_type": "markdown",
   "metadata": {},
   "source": [
    "**Step 1: Write a function that can print out a board. Set up your board as a list, where each index 1-9 corresponds with a number on a number pad, so you get a 3 by 3 board representation.**"
   ]
  },
  {
   "cell_type": "code",
   "execution_count": 3,
   "metadata": {},
   "outputs": [],
   "source": [
    "from IPython.display import clear_output\n",
    "\n",
    "def display_board(board):\n",
    "    print(board[7]+'|'+ board[8]+'|'+board[9])\n",
    "    print(board[4]+'|'+ board[5]+'|'+board[6])                  \n",
    "    print(board[1]+ '|'+ board[2]+'|'+board[3])\n",
    "    \n",
    "  "
   ]
  },
  {
   "cell_type": "markdown",
   "metadata": {},
   "source": [
    "**TEST Step 1:** run your function on a test version of the board list, and make adjustments as necessary"
   ]
  },
  {
   "cell_type": "code",
   "execution_count": 4,
   "metadata": {},
   "outputs": [
    {
     "name": "stdout",
     "output_type": "stream",
     "text": [
      "X|O|X\n",
      "O|X|O\n",
      "X|O|X\n"
     ]
    }
   ],
   "source": [
    "test_board = ['#','X','O','X','O','X','O','X','O','X']\n",
    "display_board(test_board)"
   ]
  },
  {
   "cell_type": "markdown",
   "metadata": {},
   "source": [
    "**Step 2: Write a function that can take in a player input and assign their marker as 'X' or 'O'. Think about using *while* loops to continually ask until you get a correct answer.**"
   ]
  },
  {
   "cell_type": "code",
   "execution_count": 5,
   "metadata": {},
   "outputs": [],
   "source": [
    "def player_input():\n",
    "\n",
    "    \n",
    "    Player_1_character = 'Blank'\n",
    "    while Player_1_character.upper() not in ['X','O']:\n",
    "        Player_1_character = input('Player 1, would you like to be X or O? ')\n",
    "        Player_1_character = Player_1_character.upper()\n",
    "        if Player_1_character.upper() not in ['X','O']:\n",
    "        \n",
    "            print('Please choose X or O')\n",
    "    \n",
    "    \n",
    "    \n",
    "    if Player_1_character == 'X':\n",
    "        Player_2_character = 'O'\n",
    "        \n",
    "    else:\n",
    "        Player_2_character = 'X'\n",
    "        \n",
    "        \n",
    "    print(f'Player 1 is {Player_1_character}')\n",
    "    print(f'Player 2 is {Player_2_character}')\n",
    "    print('Game on Dick Munchers')\n",
    "    \n",
    "    return Player_1_character"
   ]
  },
  {
   "cell_type": "markdown",
   "metadata": {},
   "source": [
    "**TEST Step 2:** run the function to make sure it returns the desired output"
   ]
  },
  {
   "cell_type": "code",
   "execution_count": 6,
   "metadata": {},
   "outputs": [
    {
     "name": "stdout",
     "output_type": "stream",
     "text": [
      "Player 1, would you like to be X or O? x\n",
      "Player 1 is X\n",
      "Player 2 is O\n",
      "Game on Dick Munchers\n"
     ]
    },
    {
     "data": {
      "text/plain": [
       "'O'"
      ]
     },
     "execution_count": 6,
     "metadata": {},
     "output_type": "execute_result"
    }
   ],
   "source": [
    "Player_1_character=player_input()\n",
    "if Player_1_character == 'X':\n",
    "    Player_2_character = 'O'\n",
    "else:\n",
    "    Player_2_character = 'X'\n",
    "    \n",
    "Player_2_character\n",
    "\n",
    "\n",
    "\n"
   ]
  },
  {
   "cell_type": "markdown",
   "metadata": {},
   "source": [
    "**Step 3: Write a function that takes in the board list object, a marker ('X' or 'O'), and a desired position (number 1-9) and assigns it to the board.**"
   ]
  },
  {
   "cell_type": "code",
   "execution_count": 7,
   "metadata": {},
   "outputs": [],
   "source": [
    "def place_marker(board, marker, position):\n",
    "    board[position] = marker\n",
    "    \n",
    "        \n",
    "   \n",
    "        \n",
    "        \n",
    "    \n",
    "    \n",
    "    \n",
    "    \n",
    "    \n",
    "    "
   ]
  },
  {
   "cell_type": "markdown",
   "metadata": {},
   "source": [
    "**TEST Step 3:** run the place marker function using test parameters and display the modified board"
   ]
  },
  {
   "cell_type": "code",
   "execution_count": 8,
   "metadata": {},
   "outputs": [
    {
     "name": "stdout",
     "output_type": "stream",
     "text": [
      "X|O|X\n",
      "O|X|O\n",
      "$|O|X\n"
     ]
    }
   ],
   "source": [
    "place_marker(test_board,'$',1)\n",
    "display_board(test_board)"
   ]
  },
  {
   "cell_type": "code",
   "execution_count": 9,
   "metadata": {},
   "outputs": [
    {
     "data": {
      "text/plain": [
       "['#', '$', 'O', 'X', 'O', 'X', 'O', 'X', 'O', 'X']"
      ]
     },
     "execution_count": 9,
     "metadata": {},
     "output_type": "execute_result"
    }
   ],
   "source": [
    "test_board"
   ]
  },
  {
   "cell_type": "markdown",
   "metadata": {},
   "source": [
    "**Step 4: Write a function that takes in a board and a mark (X or O) and then checks to see if that mark has won. **"
   ]
  },
  {
   "cell_type": "code",
   "execution_count": 10,
   "metadata": {},
   "outputs": [],
   "source": [
    "def win_check(board, mark):\n",
    "    if board[1] == mark and board[5]== mark and board[9] == mark:\n",
    "        return True\n",
    "    if board[1] == mark and board[2] == mark and board[3] == mark:\n",
    "        return True\n",
    "    if board[4]== mark and board[5] == mark and board[6] == mark:\n",
    "        return True\n",
    "    if board[7] == mark and board[8] == mark and board[9] == mark:\n",
    "        return True\n",
    "    if board[1] == mark and board[4] == mark and board[7] == mark:\n",
    "        return True\n",
    "    if board[2] == mark and board[5] == mark and board[8] == mark:\n",
    "        return True\n",
    "    if board[3] == mark and board[6] == mark and board[9] == mark:\n",
    "        return True\n",
    "    if board[3] == mark and board[5] == mark and board[7] == mark:\n",
    "        return True\n",
    "    else:\n",
    "        return False"
   ]
  },
  {
   "cell_type": "markdown",
   "metadata": {},
   "source": [
    "**TEST Step 4:** run the win_check function against our test_board - it should return True"
   ]
  },
  {
   "cell_type": "code",
   "execution_count": 11,
   "metadata": {},
   "outputs": [
    {
     "data": {
      "text/plain": [
       "True"
      ]
     },
     "execution_count": 11,
     "metadata": {},
     "output_type": "execute_result"
    }
   ],
   "source": [
    "win_check(test_board,'X')"
   ]
  },
  {
   "cell_type": "markdown",
   "metadata": {},
   "source": [
    "**Step 5: Write a function that uses the random module to randomly decide which player goes first. You may want to lookup random.randint() Return a string of which player went first.**"
   ]
  },
  {
   "cell_type": "code",
   "execution_count": 12,
   "metadata": {},
   "outputs": [],
   "source": [
    "import random\n",
    "\n",
    "def choose_first():\n",
    "    who_goes_first = random.randint(1,2)\n",
    "    \n",
    "    if who_goes_first == 1:\n",
    "        return \"Player 1 goes first\"\n",
    "    \n",
    "    if who_goes_first == 2:\n",
    "        return \"Player 2 goes first\"\n",
    "    \n",
    "    \n",
    "    \n",
    "    "
   ]
  },
  {
   "cell_type": "markdown",
   "metadata": {},
   "source": [
    "**Step 6: Write a function that returns a boolean indicating whether a space on the board is freely available.**"
   ]
  },
  {
   "cell_type": "code",
   "execution_count": 13,
   "metadata": {},
   "outputs": [],
   "source": [
    "def space_check(board, position):\n",
    "    \n",
    "    if board[int(position)] == 'X' or  board[int(position)]=='O':\n",
    "        return False\n",
    "    else:\n",
    "        return True\n",
    "    \n",
    "    "
   ]
  },
  {
   "cell_type": "code",
   "execution_count": 14,
   "metadata": {},
   "outputs": [
    {
     "ename": "NameError",
     "evalue": "name 'board' is not defined",
     "output_type": "error",
     "traceback": [
      "\u001b[1;31m---------------------------------------------------------------------------\u001b[0m",
      "\u001b[1;31mNameError\u001b[0m                                 Traceback (most recent call last)",
      "Input \u001b[1;32mIn [14]\u001b[0m, in \u001b[0;36m<cell line: 1>\u001b[1;34m()\u001b[0m\n\u001b[1;32m----> 1\u001b[0m space_check(\u001b[43mboard\u001b[49m,\u001b[38;5;241m7\u001b[39m)\n",
      "\u001b[1;31mNameError\u001b[0m: name 'board' is not defined"
     ]
    }
   ],
   "source": [
    "space_check(board,7)"
   ]
  },
  {
   "cell_type": "code",
   "execution_count": null,
   "metadata": {},
   "outputs": [],
   "source": [
    "board"
   ]
  },
  {
   "cell_type": "markdown",
   "metadata": {},
   "source": [
    "**Step 7: Write a function that checks if the board is full and returns a boolean value. True if full, False otherwise.**"
   ]
  },
  {
   "cell_type": "code",
   "execution_count": null,
   "metadata": {},
   "outputs": [],
   "source": [
    "def full_board_check(board):\n",
    "    \n",
    "    for x in board:\n",
    "        if x !='X' and x !='O' and x!= '#':                                                    \n",
    "            return False\n",
    "    return True"
   ]
  },
  {
   "cell_type": "code",
   "execution_count": null,
   "metadata": {},
   "outputs": [],
   "source": [
    "board = ['#', 'O', 'X', 'O', 'O', 'X', 'X', 'O', 'X', 'X']"
   ]
  },
  {
   "cell_type": "code",
   "execution_count": null,
   "metadata": {},
   "outputs": [],
   "source": [
    "full_board_check(board)"
   ]
  },
  {
   "cell_type": "markdown",
   "metadata": {},
   "source": [
    "**Step 8: Write a function that asks for a player's next position (as a number 1-9) and then uses the function from step 6 to check if it's a free position. If it is, then return the position for later use.**"
   ]
  },
  {
   "cell_type": "code",
   "execution_count": null,
   "metadata": {},
   "outputs": [],
   "source": [
    "def player_choice(board):\n",
    "    \n",
    "        \n",
    "    position = input('Which postition would you like? ')\n",
    "    while position not in ['1','2','3','4','5','6','7','8','9'] or space_check(board,position) == False:\n",
    "        print('Please select a valid position')\n",
    "        position = input('Which postition would you like? ')\n",
    "        \n",
    "        \n",
    "        \n",
    "    position = int(position)\n",
    "        \n",
    "        \n",
    "    \n",
    "    \n",
    "    \n",
    "    return position\n",
    "   \n",
    "    \n",
    "    \n",
    "    \n",
    "    "
   ]
  },
  {
   "cell_type": "markdown",
   "metadata": {},
   "source": [
    "**Step 9: Write a function that asks the player if they want to play again and returns a boolean True if they do want to play again.**"
   ]
  },
  {
   "cell_type": "code",
   "execution_count": null,
   "metadata": {},
   "outputs": [],
   "source": [
    "def replay():\n",
    "    \n",
    "    salad = input('Would you like to play again? Respond with Y or N ')\n",
    "    while salad != 'N' and salad != 'Y':\n",
    "        print('Please reply with Y or N dummy')\n",
    "        salad = input('Would you like to play again? Respond with Y or N ')\n",
    "        \n",
    "    \n",
    "    if salad == 'Y':\n",
    "        return True\n",
    "    if salad == 'N':\n",
    "        return False\n",
    "    "
   ]
  },
  {
   "cell_type": "code",
   "execution_count": null,
   "metadata": {},
   "outputs": [],
   "source": [
    "replay()"
   ]
  },
  {
   "cell_type": "code",
   "execution_count": null,
   "metadata": {},
   "outputs": [],
   "source": []
  },
  {
   "cell_type": "markdown",
   "metadata": {
    "collapsed": true
   },
   "source": [
    "**Step 10: Here comes the hard part! Use while loops and the functions you've made to run the game!**"
   ]
  },
  {
   "cell_type": "code",
   "execution_count": null,
   "metadata": {},
   "outputs": [],
   "source": [
    "Game_On = True\n",
    "while Game_On:\n",
    "    clear_output()\n",
    "    print('Welcome to tiktaktoe')\n",
    "    board = ['#','','','','','','','','','']\n",
    "    Player_1_character=player_input()\n",
    "    if Player_1_character == 'X':\n",
    "        Player_2_character = 'O'\n",
    "    else:\n",
    "        Player_2_character = 'X'\n",
    "       \n",
    "    if choose_first() == \"Player 1 goes first\":    \n",
    "        print('Player 1 was randomly selected to go first')\n",
    "        display_board(board)\n",
    "        while full_board_check(board) == False:\n",
    "            print('Player 1 is up')\n",
    "            position = player_choice(board)\n",
    "            place_marker(board,Player_1_character,position)\n",
    "            display_board(board)\n",
    "            if win_check(board,Player_1_character) == True:\n",
    "                break\n",
    "            if full_board_check(board) == True:\n",
    "                break\n",
    "            print('Player 2 is up')\n",
    "            position = player_choice(board)\n",
    "            place_marker(board,Player_2_character,position)\n",
    "            display_board(board)\n",
    "            if win_check(board,Player_2_character) == True:\n",
    "                break\n",
    "                \n",
    "    else:\n",
    "        print('Player 2 was randomly selected to go first')\n",
    "        display_board(board)\n",
    "        while full_board_check(board) == False:\n",
    "            print('Player 2 is up')\n",
    "            position = player_choice(board)\n",
    "            place_marker(board,Player_2_character,position)\n",
    "            display_board(board)\n",
    "            if win_check(board,Player_2_character) == True:\n",
    "                break\n",
    "            if full_board_check(board) == True:\n",
    "                break\n",
    "            print('Player 1 is up')\n",
    "            position = player_choice(board)\n",
    "            place_marker(board,Player_1_character,position)\n",
    "            display_board(board)\n",
    "            if win_check(board,Player_1_character) == True:\n",
    "                break\n",
    "        \n",
    "            \n",
    "            \n",
    "    \n",
    "            \n",
    "    if win_check(board,Player_1_character) == True:\n",
    "        print('Player 1 has won, suck beef player 2')\n",
    "        \n",
    "    elif win_check(board,Player_2_character) == True:\n",
    "        print('Player 2 has won, suck beef player 1')\n",
    "    else:\n",
    "        print('The board has filled up, you both suck beef')\n",
    "        \n",
    "        \n",
    "    areweplayinaaginason = replay()\n",
    "    if areweplayinaaginason == True:\n",
    "        continue\n",
    "    if areweplayinaaginason == False:\n",
    "        break\n",
    "        \n",
    "print('Game over ')\n",
    "Game_On = False\n",
    "        \n",
    "    \n",
    "        \n",
    "        \n",
    "        \n",
    "        \n",
    "    \n",
    "    \n",
    "        \n",
    "        \n",
    "  \n",
    "    \n",
    "    \n",
    "\n",
    "    # Set the game up here\n",
    "    #pass\n",
    "\n",
    "    #while game_on:\n",
    "        #Player 1 Turn\n",
    "        \n",
    "        \n",
    "        # Player2's turn.\n",
    "            \n",
    "            #pass\n",
    "\n",
    "    #if not replay():\n",
    "        #break"
   ]
  },
  {
   "cell_type": "code",
   "execution_count": null,
   "metadata": {},
   "outputs": [],
   "source": [
    "full_board_check(fullboard)"
   ]
  },
  {
   "cell_type": "code",
   "execution_count": null,
   "metadata": {},
   "outputs": [],
   "source": []
  },
  {
   "cell_type": "code",
   "execution_count": null,
   "metadata": {},
   "outputs": [],
   "source": [
    "win_check(board,Player_1_character)"
   ]
  },
  {
   "cell_type": "code",
   "execution_count": null,
   "metadata": {},
   "outputs": [],
   "source": [
    "fullboard[::] == 'X'"
   ]
  },
  {
   "cell_type": "code",
   "execution_count": null,
   "metadata": {},
   "outputs": [],
   "source": [
    "fullboard = ['#','X','X','#','O','X','X','O','O','X']\n",
    "   "
   ]
  },
  {
   "cell_type": "code",
   "execution_count": null,
   "metadata": {},
   "outputs": [],
   "source": [
    "[x for x in fullboard]"
   ]
  },
  {
   "cell_type": "code",
   "execution_count": null,
   "metadata": {},
   "outputs": [],
   "source": [
    "fullboard[0] == 'X' or 'O'"
   ]
  },
  {
   "cell_type": "markdown",
   "metadata": {
    "collapsed": true
   },
   "source": [
    "## Good Job!"
   ]
  }
 ],
 "metadata": {
  "kernelspec": {
   "display_name": "Python 3 (ipykernel)",
   "language": "python",
   "name": "python3"
  },
  "language_info": {
   "codemirror_mode": {
    "name": "ipython",
    "version": 3
   },
   "file_extension": ".py",
   "mimetype": "text/x-python",
   "name": "python",
   "nbconvert_exporter": "python",
   "pygments_lexer": "ipython3",
   "version": "3.9.12"
  }
 },
 "nbformat": 4,
 "nbformat_minor": 1
}
