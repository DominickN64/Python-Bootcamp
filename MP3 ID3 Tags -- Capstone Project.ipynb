{
 "cells": [
  {
   "cell_type": "code",
   "execution_count": 2,
   "id": "006bc92f",
   "metadata": {},
   "outputs": [],
   "source": [
    "from mutagen.mp3 import MP3  \n",
    "from mutagen.easyid3 import EasyID3  \n",
    "import mutagen.id3  \n",
    "from mutagen.id3 import ID3, TIT2, TIT3, TALB, TPE1, TRCK, TYER  \n",
    "  \n",
    "import glob  \n",
    "  \n",
    "import numpy as np  "
   ]
  },
  {
   "cell_type": "code",
   "execution_count": 114,
   "id": "5ca08c24",
   "metadata": {},
   "outputs": [],
   "source": [
    "import eyed3\n",
    "from eyed3.id3.frames import ImageFrame\n",
    "\n",
    "audiofile = eyed3.load('../MY SONGS/What You Dont Know.mp3')\n",
    "if (audiofile.tag == None):\n",
    "    audiofile.initTag()\n",
    "\n",
    "audiofile.tag.images.set(ImageFrame.FRONT_COVER, open('../Pictures/song covers/yb&uzi.jpg','rb').read(), 'image/jpg')\n",
    "\n",
    "audiofile.tag.save()"
   ]
  },
  {
   "cell_type": "code",
   "execution_count": 13,
   "id": "5f5121c7",
   "metadata": {},
   "outputs": [],
   "source": [
    "import eyed3"
   ]
  },
  {
   "cell_type": "code",
   "execution_count": null,
   "id": "2b3edb6a",
   "metadata": {},
   "outputs": [],
   "source": []
  },
  {
   "cell_type": "code",
   "execution_count": 3,
   "id": "413049ef",
   "metadata": {},
   "outputs": [],
   "source": [
    "import music_tag"
   ]
  },
  {
   "cell_type": "code",
   "execution_count": 74,
   "id": "9bef4b70",
   "metadata": {},
   "outputs": [],
   "source": [
    "f = music_tag.load_file(\"../MY SONGS/What You Dont Know.mp3\")"
   ]
  },
  {
   "cell_type": "code",
   "execution_count": 35,
   "id": "55be8941",
   "metadata": {},
   "outputs": [],
   "source": [
    "title_item = f['title']"
   ]
  },
  {
   "cell_type": "code",
   "execution_count": 37,
   "id": "f75f6afb",
   "metadata": {},
   "outputs": [
    {
     "data": {
      "text/plain": [
       "[]"
      ]
     },
     "execution_count": 37,
     "metadata": {},
     "output_type": "execute_result"
    }
   ],
   "source": [
    "title_item.values"
   ]
  },
  {
   "cell_type": "code",
   "execution_count": 62,
   "id": "3331434f",
   "metadata": {},
   "outputs": [],
   "source": [
    "f['title'] = \"What You Know\""
   ]
  },
  {
   "cell_type": "code",
   "execution_count": 64,
   "id": "c3cf3950",
   "metadata": {},
   "outputs": [],
   "source": [
    "f.append_tag('title','feat. Lil Uzi vert')"
   ]
  },
  {
   "cell_type": "code",
   "execution_count": 53,
   "id": "67c6549f",
   "metadata": {},
   "outputs": [
    {
     "data": {
      "text/plain": [
       "[]"
      ]
     },
     "execution_count": 53,
     "metadata": {},
     "output_type": "execute_result"
    }
   ],
   "source": [
    "title_item.values"
   ]
  },
  {
   "cell_type": "code",
   "execution_count": 54,
   "id": "3bf2c696",
   "metadata": {},
   "outputs": [],
   "source": [
    "f['album'] = 'Master the Day of Judgement'\n",
    "\n"
   ]
  },
  {
   "cell_type": "code",
   "execution_count": 56,
   "id": "f5fb22a7",
   "metadata": {},
   "outputs": [],
   "source": [
    "f['albumartist'] = 'YoungBoy Never Broke Again'"
   ]
  },
  {
   "cell_type": "code",
   "execution_count": 61,
   "id": "b43be56b",
   "metadata": {},
   "outputs": [],
   "source": [
    "f.remove_tag('title')"
   ]
  },
  {
   "cell_type": "code",
   "execution_count": 94,
   "id": "91d4ca04",
   "metadata": {},
   "outputs": [],
   "source": [
    "art = f['artwork']"
   ]
  },
  {
   "cell_type": "code",
   "execution_count": 115,
   "id": "54cbe794",
   "metadata": {},
   "outputs": [
    {
     "data": {
      "text/plain": [
       "[<music_tag.file.Artwork at 0x1891799ac40>,\n",
       " <music_tag.file.Artwork at 0x1891799ad00>,\n",
       " <music_tag.file.Artwork at 0x1891799aaf0>]"
      ]
     },
     "execution_count": 115,
     "metadata": {},
     "output_type": "execute_result"
    }
   ],
   "source": [
    "art.values"
   ]
  },
  {
   "cell_type": "code",
   "execution_count": 91,
   "id": "79bd75a6",
   "metadata": {},
   "outputs": [],
   "source": [
    "art.first.width = 500"
   ]
  },
  {
   "cell_type": "code",
   "execution_count": 92,
   "id": "2baa7a1f",
   "metadata": {},
   "outputs": [],
   "source": [
    "art.first.height = 500"
   ]
  },
  {
   "cell_type": "code",
   "execution_count": 86,
   "id": "1a8c3d0b",
   "metadata": {},
   "outputs": [],
   "source": [
    "art.first.height = 1000"
   ]
  },
  {
   "cell_type": "code",
   "execution_count": 109,
   "id": "cf7d01d8",
   "metadata": {},
   "outputs": [],
   "source": [
    "with open('../Pictures/song covers/yb&uzi.jpg', 'rb') as img_in:\n",
    "    f['artwork'] = img_in.read()\n",
    "with open('../Pictures/song covers/yb&uzi.jpg', 'rb') as img_in:\n",
    "    f.append_tag('artwork', img_in.read())"
   ]
  },
  {
   "cell_type": "code",
   "execution_count": 111,
   "id": "b60c479b",
   "metadata": {},
   "outputs": [],
   "source": [
    "f.save()"
   ]
  },
  {
   "cell_type": "code",
   "execution_count": 68,
   "id": "135f3e0d",
   "metadata": {},
   "outputs": [],
   "source": [
    "f['artist'] = ('YoungBoy Never Broke Again','Lil Uzi Vert')"
   ]
  },
  {
   "cell_type": "code",
   "execution_count": null,
   "id": "a4521dc4",
   "metadata": {},
   "outputs": [],
   "source": []
  },
  {
   "cell_type": "code",
   "execution_count": 4,
   "id": "220a005b",
   "metadata": {},
   "outputs": [],
   "source": [
    "g = music_tag.load_file(\"../Downloads/CHAKRAS.mp3\")"
   ]
  },
  {
   "cell_type": "code",
   "execution_count": 5,
   "id": "16d7d1de",
   "metadata": {},
   "outputs": [],
   "source": [
    "image = g['artwork']"
   ]
  },
  {
   "cell_type": "code",
   "execution_count": 106,
   "id": "e15eea8b",
   "metadata": {},
   "outputs": [
    {
     "data": {
      "text/plain": [
       "1280"
      ]
     },
     "execution_count": 106,
     "metadata": {},
     "output_type": "execute_result"
    }
   ],
   "source": [
    "image.first.height"
   ]
  },
  {
   "cell_type": "code",
   "execution_count": 108,
   "id": "749d0c96",
   "metadata": {},
   "outputs": [
    {
     "name": "stdout",
     "output_type": "stream",
     "text": [
      "Image resized and saved successfully!\n"
     ]
    }
   ],
   "source": [
    "from PIL import Image\n",
    "\n",
    "def resize_image(input_path, output_path, target_size):\n",
    "    try:\n",
    "        image = Image.open(input_path)\n",
    "        resized_image = image.resize(target_size, Image.ANTIALIAS)\n",
    "        resized_image.save(output_path)\n",
    "        print(\"Image resized and saved successfully!\")\n",
    "    except Exception as e:\n",
    "        print(\"An error occurred:\", e)\n",
    "\n",
    "input_image_path = \"C:\\\\Users\\\\domin\\\\Pictures\\\\song covers\\\\yb&uzi.jpg\"  # Replace with your input image path\n",
    "output_image_path = \"C:\\\\Users\\\\domin\\\\Pictures\\\\song covers\\\\yb&uzi.jpg\"  # Replace with your desired output image path\n",
    "target_size = (1280, 1280)\n",
    "\n",
    "resize_image(input_image_path, output_image_path, target_size)\n"
   ]
  },
  {
   "cell_type": "code",
   "execution_count": 10,
   "id": "804b21bf",
   "metadata": {},
   "outputs": [
    {
     "data": {
      "text/plain": [
       "<MetadataItem: image/jpeg 1280x1280 57ae4e775c19f5af705b8b1cfb1014c4>"
      ]
     },
     "execution_count": 10,
     "metadata": {},
     "output_type": "execute_result"
    }
   ],
   "source": [
    "image"
   ]
  },
  {
   "cell_type": "code",
   "execution_count": 14,
   "id": "ce95cd3b",
   "metadata": {},
   "outputs": [
    {
     "name": "stdout",
     "output_type": "stream",
     "text": [
      "Mime Type: image/jpeg\n",
      "Description: thumbnail\n",
      "Image Data Length: 204256\n",
      "====================\n"
     ]
    }
   ],
   "source": [
    "def inspect_image_metadata(file_path):\n",
    "    audiofile = eyed3.load(file_path)\n",
    "    \n",
    "    if audiofile.tag and audiofile.tag.images:\n",
    "        for image in audiofile.tag.images:\n",
    "            print(\"Mime Type:\", image.mime_type)\n",
    "            print(\"Description:\", image.description)\n",
    "            print(\"Image Data Length:\", len(image.image_data))\n",
    "            print(\"=\" * 20)\n",
    "    else:\n",
    "        print(\"No image metadata found.\")\n",
    "\n",
    "mp3_file_path = '../Downloads/CHAKRAS.mp3'  # Replace with your MP3 file path\n",
    "inspect_image_metadata(mp3_file_path)"
   ]
  },
  {
   "cell_type": "code",
   "execution_count": 25,
   "id": "14666c6c",
   "metadata": {},
   "outputs": [
    {
     "name": "stdout",
     "output_type": "stream",
     "text": [
      "Mime Type: image/jpeg\n",
      "Description: 0\n",
      "Image Data Length: 145142\n",
      "====================\n",
      "Mime Type: image/jpeg\n",
      "Description: 1\n",
      "Image Data Length: 145142\n",
      "====================\n",
      "Mime Type: image/jpg\n",
      "Description: \n",
      "Image Data Length: 145142\n",
      "====================\n"
     ]
    }
   ],
   "source": [
    "def inspect_image_metadata(file_path):\n",
    "    audiofile = eyed3.load(file_path)\n",
    "    \n",
    "    if audiofile.tag and audiofile.tag.images:\n",
    "        for image in audiofile.tag.images:\n",
    "            print(\"Mime Type:\", image.mime_type)\n",
    "            print(\"Description:\", image.description)\n",
    "            print(\"Image Data Length:\", len(image.image_data))\n",
    "            print(\"=\" * 20)\n",
    "    else:\n",
    "        print(\"No image metadata found.\")\n",
    "\n",
    "mp3_file_path = '../MY SONGS/What_You_Dont_Know.mp3'  # Replace with your MP3 file path\n",
    "inspect_image_metadata(mp3_file_path)"
   ]
  },
  {
   "cell_type": "code",
   "execution_count": 20,
   "id": "7b0b611b",
   "metadata": {},
   "outputs": [
    {
     "ename": "AttributeError",
     "evalue": "'ImagesAccessor' object has no attribute 'clear'",
     "output_type": "error",
     "traceback": [
      "\u001b[1;31m---------------------------------------------------------------------------\u001b[0m",
      "\u001b[1;31mAttributeError\u001b[0m                            Traceback (most recent call last)",
      "Input \u001b[1;32mIn [20]\u001b[0m, in \u001b[0;36m<cell line: 14>\u001b[1;34m()\u001b[0m\n\u001b[0;32m     11\u001b[0m         \u001b[38;5;28mprint\u001b[39m(\u001b[38;5;124m\"\u001b[39m\u001b[38;5;124mNo image metadata found.\u001b[39m\u001b[38;5;124m\"\u001b[39m)\n\u001b[0;32m     13\u001b[0m mp3_file_path \u001b[38;5;241m=\u001b[39m \u001b[38;5;124m\"\u001b[39m\u001b[38;5;124m../MY SONGS/What You Dont Know.mp3\u001b[39m\u001b[38;5;124m\"\u001b[39m  \u001b[38;5;66;03m# Replace with your MP3 file path\u001b[39;00m\n\u001b[1;32m---> 14\u001b[0m \u001b[43mremove_all_images\u001b[49m\u001b[43m(\u001b[49m\u001b[43mmp3_file_path\u001b[49m\u001b[43m)\u001b[49m\n",
      "Input \u001b[1;32mIn [20]\u001b[0m, in \u001b[0;36mremove_all_images\u001b[1;34m(file_path)\u001b[0m\n\u001b[0;32m      4\u001b[0m audiofile \u001b[38;5;241m=\u001b[39m eyed3\u001b[38;5;241m.\u001b[39mload(file_path)\n\u001b[0;32m      6\u001b[0m \u001b[38;5;28;01mif\u001b[39;00m audiofile\u001b[38;5;241m.\u001b[39mtag \u001b[38;5;129;01mand\u001b[39;00m audiofile\u001b[38;5;241m.\u001b[39mtag\u001b[38;5;241m.\u001b[39mimages:\n\u001b[1;32m----> 7\u001b[0m     \u001b[43maudiofile\u001b[49m\u001b[38;5;241;43m.\u001b[39;49m\u001b[43mtag\u001b[49m\u001b[38;5;241;43m.\u001b[39;49m\u001b[43mimages\u001b[49m\u001b[38;5;241;43m.\u001b[39;49m\u001b[43mclear\u001b[49m()\n\u001b[0;32m      8\u001b[0m     audiofile\u001b[38;5;241m.\u001b[39mtag\u001b[38;5;241m.\u001b[39msave()\n\u001b[0;32m      9\u001b[0m     \u001b[38;5;28mprint\u001b[39m(\u001b[38;5;124m\"\u001b[39m\u001b[38;5;124mRemoved all image metadata and saved changes.\u001b[39m\u001b[38;5;124m\"\u001b[39m)\n",
      "\u001b[1;31mAttributeError\u001b[0m: 'ImagesAccessor' object has no attribute 'clear'"
     ]
    }
   ],
   "source": [
    "import eyed3\n",
    "\n",
    "def remove_all_images(file_path):\n",
    "    audiofile = eyed3.load(file_path)\n",
    "    \n",
    "    if audiofile.tag and audiofile.tag.images:\n",
    "        audiofile.tag.images.clear()\n",
    "        audiofile.tag.save()\n",
    "        print(\"Removed all image metadata and saved changes.\")\n",
    "    else:\n",
    "        print(\"No image metadata found.\")\n",
    "\n",
    "mp3_file_path = \"../MY SONGS/What You Dont Know.mp3\"  # Replace with your MP3 file path\n",
    "remove_all_images(mp3_file_path)\n"
   ]
  },
  {
   "cell_type": "code",
   "execution_count": 22,
   "id": "1c1a45fc",
   "metadata": {},
   "outputs": [
    {
     "ename": "AttributeError",
     "evalue": "can't set attribute",
     "output_type": "error",
     "traceback": [
      "\u001b[1;31m---------------------------------------------------------------------------\u001b[0m",
      "\u001b[1;31mAttributeError\u001b[0m                            Traceback (most recent call last)",
      "Input \u001b[1;32mIn [22]\u001b[0m, in \u001b[0;36m<cell line: 17>\u001b[1;34m()\u001b[0m\n\u001b[0;32m     14\u001b[0m         \u001b[38;5;28mprint\u001b[39m(\u001b[38;5;124m\"\u001b[39m\u001b[38;5;124mNo image metadata found.\u001b[39m\u001b[38;5;124m\"\u001b[39m)\n\u001b[0;32m     16\u001b[0m mp3_file_path \u001b[38;5;241m=\u001b[39m \u001b[38;5;124m\"\u001b[39m\u001b[38;5;124m../MY SONGS/What You Dont Know.mp3\u001b[39m\u001b[38;5;124m\"\u001b[39m  \u001b[38;5;66;03m# Replace with your MP3 file path\u001b[39;00m\n\u001b[1;32m---> 17\u001b[0m \u001b[43mremove_all_images\u001b[49m\u001b[43m(\u001b[49m\u001b[43mmp3_file_path\u001b[49m\u001b[43m)\u001b[49m\n",
      "Input \u001b[1;32mIn [22]\u001b[0m, in \u001b[0;36mremove_all_images\u001b[1;34m(file_path)\u001b[0m\n\u001b[0;32m      4\u001b[0m audiofile \u001b[38;5;241m=\u001b[39m eyed3\u001b[38;5;241m.\u001b[39mload(file_path)\n\u001b[0;32m      6\u001b[0m \u001b[38;5;28;01mif\u001b[39;00m audiofile\u001b[38;5;241m.\u001b[39mtag \u001b[38;5;129;01mand\u001b[39;00m audiofile\u001b[38;5;241m.\u001b[39mtag\u001b[38;5;241m.\u001b[39mimages:\n\u001b[0;32m      7\u001b[0m     \u001b[38;5;66;03m# Clear all images by setting an empty list\u001b[39;00m\n\u001b[1;32m----> 8\u001b[0m     audiofile\u001b[38;5;241m.\u001b[39mtag\u001b[38;5;241m.\u001b[39mimages \u001b[38;5;241m=\u001b[39m []\n\u001b[0;32m     10\u001b[0m     \u001b[38;5;66;03m# Save the changes\u001b[39;00m\n\u001b[0;32m     11\u001b[0m     audiofile\u001b[38;5;241m.\u001b[39mtag\u001b[38;5;241m.\u001b[39msave()\n",
      "\u001b[1;31mAttributeError\u001b[0m: can't set attribute"
     ]
    }
   ],
   "source": [
    "import eyed3\n",
    "\n",
    "def remove_all_images(file_path):\n",
    "    audiofile = eyed3.load(file_path)\n",
    "    \n",
    "    if audiofile.tag and audiofile.tag.images:\n",
    "        # Clear all images by setting an empty list\n",
    "        audiofile.tag.images = []\n",
    "        \n",
    "        # Save the changes\n",
    "        audiofile.tag.save()\n",
    "        print(\"Removed all image metadata and saved changes.\")\n",
    "    else:\n",
    "        print(\"No image metadata found.\")\n",
    "\n",
    "mp3_file_path = \"../MY SONGS/What You Dont Know.mp3\"  # Replace with your MP3 file path\n",
    "remove_all_images(mp3_file_path)\n"
   ]
  }
 ],
 "metadata": {
  "kernelspec": {
   "display_name": "Python 3 (ipykernel)",
   "language": "python",
   "name": "python3"
  },
  "language_info": {
   "codemirror_mode": {
    "name": "ipython",
    "version": 3
   },
   "file_extension": ".py",
   "mimetype": "text/x-python",
   "name": "python",
   "nbconvert_exporter": "python",
   "pygments_lexer": "ipython3",
   "version": "3.9.12"
  }
 },
 "nbformat": 4,
 "nbformat_minor": 5
}
