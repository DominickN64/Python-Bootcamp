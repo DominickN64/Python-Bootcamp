{
 "cells": [
  {
   "cell_type": "code",
   "execution_count": 2,
   "id": "29172ebc",
   "metadata": {},
   "outputs": [],
   "source": [
    "def myfunc(*args):\n",
    "    return sum(args)"
   ]
  },
  {
   "cell_type": "code",
   "execution_count": 49,
   "id": "d67200e8",
   "metadata": {},
   "outputs": [
    {
     "data": {
      "text/plain": [
       "2295.34"
      ]
     },
     "execution_count": 49,
     "metadata": {},
     "output_type": "execute_result"
    }
   ],
   "source": [
    "myfunc(4,6,7,2,0,2234,34,8.34)"
   ]
  },
  {
   "cell_type": "code",
   "execution_count": 8,
   "id": "a1a6958f",
   "metadata": {},
   "outputs": [],
   "source": [
    "a=1\n",
    "b=9\n",
    "c=4\n",
    "d=2\n",
    "e=5\n",
    "f=5"
   ]
  },
  {
   "cell_type": "code",
   "execution_count": 68,
   "id": "cc893b68",
   "metadata": {},
   "outputs": [],
   "source": [
    "def newfunc(x,y):\n",
    "    return sum((x,y))"
   ]
  },
  {
   "cell_type": "code",
   "execution_count": 69,
   "id": "7e0d5f8e",
   "metadata": {},
   "outputs": [
    {
     "data": {
      "text/plain": [
       "7"
      ]
     },
     "execution_count": 69,
     "metadata": {},
     "output_type": "execute_result"
    }
   ],
   "source": [
    "newfunc(4,3)"
   ]
  },
  {
   "cell_type": "code",
   "execution_count": 14,
   "id": "aea2b140",
   "metadata": {},
   "outputs": [],
   "source": [
    "txt = \" Hello World \""
   ]
  },
  {
   "cell_type": "code",
   "execution_count": 15,
   "id": "23d06ad0",
   "metadata": {},
   "outputs": [],
   "source": [
    "x = txt.strip('o')"
   ]
  },
  {
   "cell_type": "code",
   "execution_count": 20,
   "id": "c28910be",
   "metadata": {},
   "outputs": [
    {
     "data": {
      "text/plain": [
       "' Hello World '"
      ]
     },
     "execution_count": 20,
     "metadata": {},
     "output_type": "execute_result"
    }
   ],
   "source": [
    "x"
   ]
  }
 ],
 "metadata": {
  "kernelspec": {
   "display_name": "Python 3 (ipykernel)",
   "language": "python",
   "name": "python3"
  },
  "language_info": {
   "codemirror_mode": {
    "name": "ipython",
    "version": 3
   },
   "file_extension": ".py",
   "mimetype": "text/x-python",
   "name": "python",
   "nbconvert_exporter": "python",
   "pygments_lexer": "ipython3",
   "version": "3.9.12"
  }
 },
 "nbformat": 4,
 "nbformat_minor": 5
}
