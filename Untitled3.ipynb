{
 "cells": [
  {
   "cell_type": "code",
   "execution_count": 10,
   "id": "52ff29d5",
   "metadata": {},
   "outputs": [
    {
     "data": {
      "text/plain": [
       "[2, 4, 6, 8, 10, 12, 14, 16, 18, 20]"
      ]
     },
     "execution_count": 10,
     "metadata": {},
     "output_type": "execute_result"
    }
   ],
   "source": [
    "[x*2 for x in range(1,11)]"
   ]
  },
  {
   "cell_type": "code",
   "execution_count": 12,
   "id": "dddd999e",
   "metadata": {},
   "outputs": [
    {
     "data": {
      "text/plain": [
       "[13.0, 13.0, 13.0, 15.0, 15.0, 15.0, 17.0, 17.0, 17.0]"
      ]
     },
     "execution_count": 12,
     "metadata": {},
     "output_type": "execute_result"
    }
   ],
   "source": [
    "[x*(4/2)+11 for x in [1,2,3] for y in [1,5,10]]"
   ]
  },
  {
   "cell_type": "code",
   "execution_count": 14,
   "id": "86921ad2",
   "metadata": {},
   "outputs": [],
   "source": [
    "item = 98"
   ]
  },
  {
   "cell_type": "code",
   "execution_count": 4,
   "id": "df6516c6",
   "metadata": {},
   "outputs": [],
   "source": [
    "low = 0\n",
    "high = len(x) - 1"
   ]
  },
  {
   "cell_type": "code",
   "execution_count": 20,
   "id": "180a854b",
   "metadata": {},
   "outputs": [],
   "source": [
    "x = list(range(0,101))"
   ]
  },
  {
   "cell_type": "code",
   "execution_count": 9,
   "id": "58cdf41a",
   "metadata": {},
   "outputs": [],
   "source": [
    "mid = int((low + high) / 2)"
   ]
  },
  {
   "cell_type": "code",
   "execution_count": 10,
   "id": "db54e0f8",
   "metadata": {},
   "outputs": [],
   "source": [
    "guess = x[mid]"
   ]
  },
  {
   "cell_type": "code",
   "execution_count": 16,
   "id": "066b1550",
   "metadata": {},
   "outputs": [],
   "source": [
    "if guess < item:\n",
    "    low = mid + 1\n"
   ]
  },
  {
   "cell_type": "code",
   "execution_count": 18,
   "id": "9d3cfe49",
   "metadata": {},
   "outputs": [
    {
     "data": {
      "text/plain": [
       "51"
      ]
     },
     "execution_count": 18,
     "metadata": {},
     "output_type": "execute_result"
    }
   ],
   "source": [
    "low"
   ]
  },
  {
   "cell_type": "code",
   "execution_count": 60,
   "id": "1756f331",
   "metadata": {},
   "outputs": [
    {
     "ename": "SyntaxError",
     "evalue": "invalid syntax (2001780332.py, line 6)",
     "output_type": "error",
     "traceback": [
      "\u001b[1;36m  Input \u001b[1;32mIn [60]\u001b[1;36m\u001b[0m\n\u001b[1;33m    my_list = list(range(0,101))\u001b[0m\n\u001b[1;37m    ^\u001b[0m\n\u001b[1;31mSyntaxError\u001b[0m\u001b[1;31m:\u001b[0m invalid syntax\n"
     ]
    }
   ],
   "source": [
    "def binary_search(my_list,item):\n",
    "    low = 0\n",
    "    high = len(x)\n",
    "    mid = (int (low + high) / 2)\n",
    "    guess = x[int([mid])\n",
    "    my_list = list(range(0,101))\n",
    "    \n",
    "    while guess != item:\n",
    "        mid = (int (low + high) / 2)\n",
    "        \n",
    "        if guess > item:\n",
    "            high = guess - 1\n",
    "        \n",
    "        if guess < item:\n",
    "            low = guess + 1\n",
    "        \n",
    "    \n",
    "    "
   ]
  },
  {
   "cell_type": "code",
   "execution_count": 61,
   "id": "d105a5a6",
   "metadata": {},
   "outputs": [
    {
     "ename": "TypeError",
     "evalue": "list indices must be integers or slices, not float",
     "output_type": "error",
     "traceback": [
      "\u001b[1;31m---------------------------------------------------------------------------\u001b[0m",
      "\u001b[1;31mTypeError\u001b[0m                                 Traceback (most recent call last)",
      "Input \u001b[1;32mIn [61]\u001b[0m, in \u001b[0;36m<cell line: 1>\u001b[1;34m()\u001b[0m\n\u001b[1;32m----> 1\u001b[0m \u001b[43mbinary_search\u001b[49m\u001b[43m(\u001b[49m\u001b[43mx\u001b[49m\u001b[43m,\u001b[49m\u001b[38;5;241;43m38\u001b[39;49m\u001b[43m)\u001b[49m\n",
      "Input \u001b[1;32mIn [34]\u001b[0m, in \u001b[0;36mbinary_search\u001b[1;34m(x, item)\u001b[0m\n\u001b[0;32m      3\u001b[0m high \u001b[38;5;241m=\u001b[39m \u001b[38;5;28mlen\u001b[39m(x)\n\u001b[0;32m      4\u001b[0m mid \u001b[38;5;241m=\u001b[39m (\u001b[38;5;28mint\u001b[39m (low \u001b[38;5;241m+\u001b[39m high) \u001b[38;5;241m/\u001b[39m \u001b[38;5;241m2\u001b[39m)\n\u001b[1;32m----> 5\u001b[0m guess \u001b[38;5;241m=\u001b[39m \u001b[38;5;28mint\u001b[39m(\u001b[43mx\u001b[49m\u001b[43m[\u001b[49m\u001b[43mmid\u001b[49m\u001b[43m]\u001b[49m)\n\u001b[0;32m      6\u001b[0m x \u001b[38;5;241m=\u001b[39m \u001b[38;5;28mlist\u001b[39m(\u001b[38;5;28mrange\u001b[39m(\u001b[38;5;241m0\u001b[39m,\u001b[38;5;241m101\u001b[39m))\n\u001b[0;32m      8\u001b[0m \u001b[38;5;28;01mwhile\u001b[39;00m guess \u001b[38;5;241m!=\u001b[39m item:\n",
      "\u001b[1;31mTypeError\u001b[0m: list indices must be integers or slices, not float"
     ]
    }
   ],
   "source": [
    "binary_search(x,38)"
   ]
  },
  {
   "cell_type": "code",
   "execution_count": 71,
   "id": "71e6f35c",
   "metadata": {},
   "outputs": [],
   "source": [
    "def binary_search(my_list, item):\n",
    "    low = 0\n",
    "    high = len(my_list) - 1\n",
    "    while low <= high:\n",
    "        mid = (low + high)\n",
    "        guess = list[mid]\n",
    "        if guess == item:\n",
    "            return mid\n",
    "        if guess > item:\n",
    "            high = mid - 1\n",
    "        else:\n",
    "            low = mid + 1\n",
    "            return None\n",
    "    my_list = list((range(1,101)))"
   ]
  },
  {
   "cell_type": "code",
   "execution_count": 72,
   "id": "e31cf974",
   "metadata": {},
   "outputs": [
    {
     "ename": "TypeError",
     "evalue": "'>' not supported between instances of 'types.GenericAlias' and 'int'",
     "output_type": "error",
     "traceback": [
      "\u001b[1;31m---------------------------------------------------------------------------\u001b[0m",
      "\u001b[1;31mTypeError\u001b[0m                                 Traceback (most recent call last)",
      "Input \u001b[1;32mIn [72]\u001b[0m, in \u001b[0;36m<cell line: 1>\u001b[1;34m()\u001b[0m\n\u001b[1;32m----> 1\u001b[0m \u001b[43mbinary_search\u001b[49m\u001b[43m(\u001b[49m\u001b[43mx\u001b[49m\u001b[43m,\u001b[49m\u001b[38;5;241;43m10\u001b[39;49m\u001b[43m)\u001b[49m\n",
      "Input \u001b[1;32mIn [71]\u001b[0m, in \u001b[0;36mbinary_search\u001b[1;34m(my_list, item)\u001b[0m\n\u001b[0;32m      7\u001b[0m \u001b[38;5;28;01mif\u001b[39;00m guess \u001b[38;5;241m==\u001b[39m item:\n\u001b[0;32m      8\u001b[0m     \u001b[38;5;28;01mreturn\u001b[39;00m mid\n\u001b[1;32m----> 9\u001b[0m \u001b[38;5;28;01mif\u001b[39;00m \u001b[43mguess\u001b[49m\u001b[43m \u001b[49m\u001b[38;5;241;43m>\u001b[39;49m\u001b[43m \u001b[49m\u001b[43mitem\u001b[49m:\n\u001b[0;32m     10\u001b[0m     high \u001b[38;5;241m=\u001b[39m mid \u001b[38;5;241m-\u001b[39m \u001b[38;5;241m1\u001b[39m\n\u001b[0;32m     11\u001b[0m \u001b[38;5;28;01melse\u001b[39;00m:\n",
      "\u001b[1;31mTypeError\u001b[0m: '>' not supported between instances of 'types.GenericAlias' and 'int'"
     ]
    }
   ],
   "source": [
    "binary_search(x,10)"
   ]
  }
 ],
 "metadata": {
  "kernelspec": {
   "display_name": "Python 3 (ipykernel)",
   "language": "python",
   "name": "python3"
  },
  "language_info": {
   "codemirror_mode": {
    "name": "ipython",
    "version": 3
   },
   "file_extension": ".py",
   "mimetype": "text/x-python",
   "name": "python",
   "nbconvert_exporter": "python",
   "pygments_lexer": "ipython3",
   "version": "3.9.12"
  }
 },
 "nbformat": 4,
 "nbformat_minor": 5
}
