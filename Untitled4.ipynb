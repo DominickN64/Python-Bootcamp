{
 "cells": [
  {
   "cell_type": "code",
   "execution_count": 37,
   "id": "df897e7c",
   "metadata": {},
   "outputs": [],
   "source": [
    "address = '2322.34.222.5559'"
   ]
  },
  {
   "cell_type": "code",
   "execution_count": 38,
   "id": "34e8e092",
   "metadata": {},
   "outputs": [],
   "source": [
    "address = address.split('.')"
   ]
  },
  {
   "cell_type": "code",
   "execution_count": 44,
   "id": "ae01ccce",
   "metadata": {},
   "outputs": [
    {
     "data": {
      "text/plain": [
       "'2322[.]34[.]222[.]5559'"
      ]
     },
     "execution_count": 44,
     "metadata": {},
     "output_type": "execute_result"
    }
   ],
   "source": [
    "'[.]'.join(address)"
   ]
  },
  {
   "cell_type": "code",
   "execution_count": null,
   "id": "6ea35e77",
   "metadata": {},
   "outputs": [],
   "source": [
    "def "
   ]
  }
 ],
 "metadata": {
  "kernelspec": {
   "display_name": "Python 3 (ipykernel)",
   "language": "python",
   "name": "python3"
  },
  "language_info": {
   "codemirror_mode": {
    "name": "ipython",
    "version": 3
   },
   "file_extension": ".py",
   "mimetype": "text/x-python",
   "name": "python",
   "nbconvert_exporter": "python",
   "pygments_lexer": "ipython3",
   "version": "3.9.12"
  }
 },
 "nbformat": 4,
 "nbformat_minor": 5
}
