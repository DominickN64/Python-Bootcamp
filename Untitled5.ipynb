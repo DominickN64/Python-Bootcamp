{
 "cells": [
  {
   "cell_type": "code",
   "execution_count": 2,
   "id": "2aeca3c3",
   "metadata": {},
   "outputs": [
    {
     "data": {
      "text/plain": [
       "str"
      ]
     },
     "execution_count": 2,
     "metadata": {},
     "output_type": "execute_result"
    }
   ],
   "source": [
    "type('TIOOIES')"
   ]
  },
  {
   "cell_type": "code",
   "execution_count": 47,
   "id": "a80d1676",
   "metadata": {},
   "outputs": [],
   "source": [
    "class Dog():\n",
    "    \n",
    "    wetnose = True\n",
    "    furry = True\n",
    "    nose_color = 'Black'\n",
    "    \n",
    "    def __init__(self,breed,stretches):\n",
    "        self.breed = breed\n",
    "        self.stretches = stretches\n",
    "        \n",
    "    def bark(self):\n",
    "        print('Woof')\n",
    "        \n",
    "        \n",
    "        \n",
    "        \n",
    "        "
   ]
  },
  {
   "cell_type": "code",
   "execution_count": 48,
   "id": "750d3065",
   "metadata": {},
   "outputs": [],
   "source": [
    "my_dog = Dog('Poodle', 'True') "
   ]
  },
  {
   "cell_type": "code",
   "execution_count": 9,
   "id": "75abde20",
   "metadata": {},
   "outputs": [
    {
     "data": {
      "text/plain": [
       "__main__.Dog"
      ]
     },
     "execution_count": 9,
     "metadata": {},
     "output_type": "execute_result"
    }
   ],
   "source": [
    "type (my_dog)"
   ]
  },
  {
   "cell_type": "code",
   "execution_count": 50,
   "id": "40427876",
   "metadata": {},
   "outputs": [
    {
     "name": "stdout",
     "output_type": "stream",
     "text": [
      "Woof\n"
     ]
    }
   ],
   "source": [
    "my_dog.bark()"
   ]
  },
  {
   "cell_type": "code",
   "execution_count": 41,
   "id": "dce557d8",
   "metadata": {},
   "outputs": [],
   "source": [
    "denises_dog = Dog('German Shepard', 'False')"
   ]
  },
  {
   "cell_type": "code",
   "execution_count": 43,
   "id": "c49d72a0",
   "metadata": {},
   "outputs": [
    {
     "data": {
      "text/plain": [
       "True"
      ]
     },
     "execution_count": 43,
     "metadata": {},
     "output_type": "execute_result"
    }
   ],
   "source": [
    "denises_dog.wetnose"
   ]
  },
  {
   "cell_type": "code",
   "execution_count": 45,
   "id": "48790eb2",
   "metadata": {},
   "outputs": [
    {
     "data": {
      "text/plain": [
       "'German Shepard'"
      ]
     },
     "execution_count": 45,
     "metadata": {},
     "output_type": "execute_result"
    }
   ],
   "source": [
    "denises_dog.breed"
   ]
  },
  {
   "cell_type": "code",
   "execution_count": 5,
   "id": "ea473751",
   "metadata": {},
   "outputs": [],
   "source": [
    "def reverse():\n",
    "    \n",
    "    s = input(\"Enter the string to be reversed >\")\n",
    "    \n",
    "\n",
    "    rs = s[::-1]\n",
    "\n",
    "    so = ''.join(sorted(s))\n",
    "\n",
    "\n",
    "  \n",
    "    print(f\"Sample string:{s}\")\n",
    "  \n",
    "    print(f\"Reversed output: {rs}\")\n",
    "\n",
    "    print(f\"Sorted output: {so}\")"
   ]
  },
  {
   "cell_type": "code",
   "execution_count": 8,
   "id": "3bde166a",
   "metadata": {},
   "outputs": [
    {
     "name": "stdout",
     "output_type": "stream",
     "text": [
      "Enter the string to be reversed >shiin pooo 222 poopy 221\n",
      "Sample string:shiin pooo 222 poopy 221\n",
      "Reversed output: 122 ypoop 222 ooop niihs\n",
      "Sorted output:     122222hiinooooopppsy\n"
     ]
    }
   ],
   "source": [
    "reverse()"
   ]
  },
  {
   "cell_type": "code",
   "execution_count": 9,
   "id": "71d88393",
   "metadata": {},
   "outputs": [],
   "source": [
    "e = 'nihha'"
   ]
  },
  {
   "cell_type": "code",
   "execution_count": 1,
   "id": "f11bec30",
   "metadata": {},
   "outputs": [
    {
     "ename": "NameError",
     "evalue": "name 'e' is not defined",
     "output_type": "error",
     "traceback": [
      "\u001b[1;31m---------------------------------------------------------------------------\u001b[0m",
      "\u001b[1;31mNameError\u001b[0m                                 Traceback (most recent call last)",
      "Input \u001b[1;32mIn [1]\u001b[0m, in \u001b[0;36m<cell line: 1>\u001b[1;34m()\u001b[0m\n\u001b[1;32m----> 1\u001b[0m eyye \u001b[38;5;241m=\u001b[39m \u001b[38;5;28msorted\u001b[39m(\u001b[43me\u001b[49m)\n\u001b[0;32m      2\u001b[0m \u001b[38;5;124m'\u001b[39m\u001b[38;5;124m'\u001b[39m\u001b[38;5;241m.\u001b[39mjoin(eyye)\n",
      "\u001b[1;31mNameError\u001b[0m: name 'e' is not defined"
     ]
    }
   ],
   "source": [
    "eyye = sorted(e)\n",
    "''.join(eyye)"
   ]
  },
  {
   "cell_type": "code",
   "execution_count": 4,
   "id": "b9581559",
   "metadata": {},
   "outputs": [],
   "source": [
    "mylist = {1,2,3}"
   ]
  },
  {
   "cell_type": "code",
   "execution_count": 21,
   "id": "4749646e",
   "metadata": {},
   "outputs": [],
   "source": [
    "mylist.add(4)"
   ]
  },
  {
   "cell_type": "code",
   "execution_count": 19,
   "id": "b64fb081",
   "metadata": {},
   "outputs": [
    {
     "ename": "KeyError",
     "evalue": "5",
     "output_type": "error",
     "traceback": [
      "\u001b[1;31m---------------------------------------------------------------------------\u001b[0m",
      "\u001b[1;31mKeyError\u001b[0m                                  Traceback (most recent call last)",
      "Input \u001b[1;32mIn [19]\u001b[0m, in \u001b[0;36m<cell line: 1>\u001b[1;34m()\u001b[0m\n\u001b[1;32m----> 1\u001b[0m \u001b[43mmylist\u001b[49m\u001b[38;5;241;43m.\u001b[39;49m\u001b[43mremove\u001b[49m\u001b[43m(\u001b[49m\u001b[38;5;241;43m5\u001b[39;49m\u001b[43m)\u001b[49m\n",
      "\u001b[1;31mKeyError\u001b[0m: 5"
     ]
    }
   ],
   "source": [
    "mylist.remove(5)"
   ]
  },
  {
   "cell_type": "code",
   "execution_count": 24,
   "id": "b6809a51",
   "metadata": {},
   "outputs": [
    {
     "data": {
      "text/plain": [
       "{1, 2, 3, 4}"
      ]
     },
     "execution_count": 24,
     "metadata": {},
     "output_type": "execute_result"
    }
   ],
   "source": [
    "mylist"
   ]
  },
  {
   "cell_type": "code",
   "execution_count": 53,
   "id": "6884c8d9",
   "metadata": {},
   "outputs": [],
   "source": [
    "class Store:\n",
    "    \n",
    "    def __init__(self):\n",
    "        self.map = set()\n",
    "        \n",
    "    def insert(self,value):\n",
    "        self.map.add(value)\n",
    "    def remove(self,value):\n",
    "        self.map.remove(vaue)\n",
    "    def get_random(self):\n",
    "        return randint(list(self.map))"
   ]
  },
  {
   "cell_type": "code",
   "execution_count": 29,
   "id": "ca206779",
   "metadata": {},
   "outputs": [],
   "source": [
    "x = 7"
   ]
  },
  {
   "cell_type": "code",
   "execution_count": 54,
   "id": "1a51a43b",
   "metadata": {},
   "outputs": [],
   "source": [
    "my_bank = Store()"
   ]
  },
  {
   "cell_type": "code",
   "execution_count": 49,
   "id": "e52724d7",
   "metadata": {},
   "outputs": [],
   "source": [
    "my_bank.insert(3)"
   ]
  },
  {
   "cell_type": "code",
   "execution_count": 50,
   "id": "500e7b14",
   "metadata": {},
   "outputs": [
    {
     "data": {
      "text/plain": [
       "<__main__.Store at 0x235270a4370>"
      ]
     },
     "execution_count": 50,
     "metadata": {},
     "output_type": "execute_result"
    }
   ],
   "source": [
    "my_bank"
   ]
  },
  {
   "cell_type": "code",
   "execution_count": 55,
   "id": "365b9be5",
   "metadata": {},
   "outputs": [
    {
     "ename": "NameError",
     "evalue": "name 'randint' is not defined",
     "output_type": "error",
     "traceback": [
      "\u001b[1;31m---------------------------------------------------------------------------\u001b[0m",
      "\u001b[1;31mNameError\u001b[0m                                 Traceback (most recent call last)",
      "Input \u001b[1;32mIn [55]\u001b[0m, in \u001b[0;36m<cell line: 1>\u001b[1;34m()\u001b[0m\n\u001b[1;32m----> 1\u001b[0m \u001b[43mmy_bank\u001b[49m\u001b[38;5;241;43m.\u001b[39;49m\u001b[43mget_random\u001b[49m\u001b[43m(\u001b[49m\u001b[43m)\u001b[49m\n",
      "Input \u001b[1;32mIn [53]\u001b[0m, in \u001b[0;36mStore.get_random\u001b[1;34m(self)\u001b[0m\n\u001b[0;32m     10\u001b[0m \u001b[38;5;28;01mdef\u001b[39;00m \u001b[38;5;21mget_random\u001b[39m(\u001b[38;5;28mself\u001b[39m):\n\u001b[1;32m---> 11\u001b[0m     \u001b[38;5;28;01mreturn\u001b[39;00m \u001b[43mrandint\u001b[49m(\u001b[38;5;28mlist\u001b[39m(\u001b[38;5;28mself\u001b[39m\u001b[38;5;241m.\u001b[39mmap))\n",
      "\u001b[1;31mNameError\u001b[0m: name 'randint' is not defined"
     ]
    }
   ],
   "source": [
    "my_bank.get_random()"
   ]
  }
 ],
 "metadata": {
  "kernelspec": {
   "display_name": "Python 3 (ipykernel)",
   "language": "python",
   "name": "python3"
  },
  "language_info": {
   "codemirror_mode": {
    "name": "ipython",
    "version": 3
   },
   "file_extension": ".py",
   "mimetype": "text/x-python",
   "name": "python",
   "nbconvert_exporter": "python",
   "pygments_lexer": "ipython3",
   "version": "3.9.12"
  }
 },
 "nbformat": 4,
 "nbformat_minor": 5
}
