{
 "cells": [
  {
   "cell_type": "code",
   "execution_count": 2,
   "id": "a8aa5d41",
   "metadata": {},
   "outputs": [
    {
     "data": {
      "text/plain": [
       "6"
      ]
     },
     "execution_count": 2,
     "metadata": {},
     "output_type": "execute_result"
    }
   ],
   "source": [
    "3 + 3"
   ]
  },
  {
   "cell_type": "code",
   "execution_count": 3,
   "id": "1738703e",
   "metadata": {},
   "outputs": [],
   "source": [
    "william = \"gay\""
   ]
  },
  {
   "cell_type": "code",
   "execution_count": 6,
   "id": "fa8a11b6",
   "metadata": {},
   "outputs": [
    {
     "data": {
      "text/plain": [
       "'gay'"
      ]
     },
     "execution_count": 6,
     "metadata": {},
     "output_type": "execute_result"
    }
   ],
   "source": [
    "william"
   ]
  },
  {
   "cell_type": "code",
   "execution_count": 12,
   "id": "11a148cf",
   "metadata": {},
   "outputs": [],
   "source": [
    "c = 6"
   ]
  },
  {
   "cell_type": "code",
   "execution_count": 14,
   "id": "1a2055f9",
   "metadata": {},
   "outputs": [],
   "source": [
    "radius = c/(2*3.14)"
   ]
  },
  {
   "cell_type": "code",
   "execution_count": 15,
   "id": "b9b3d3ab",
   "metadata": {},
   "outputs": [
    {
     "data": {
      "text/plain": [
       "0.9554140127388535"
      ]
     },
     "execution_count": 15,
     "metadata": {},
     "output_type": "execute_result"
    }
   ],
   "source": [
    "radius"
   ]
  },
  {
   "cell_type": "code",
   "execution_count": 4,
   "id": "6e9b2e41",
   "metadata": {},
   "outputs": [
    {
     "name": "stdout",
     "output_type": "stream",
     "text": [
      "1\n",
      "2\n",
      "3\n",
      "4\n",
      "5\n",
      "6\n",
      "7\n",
      "8\n",
      "9\n",
      "10\n",
      "11\n",
      "12\n",
      "13\n",
      "14\n",
      "15\n",
      "16\n",
      "17\n",
      "18\n",
      "19\n",
      "20\n",
      "21\n",
      "22\n",
      "23\n",
      "24\n",
      "25\n",
      "26\n",
      "27\n",
      "28\n",
      "29\n"
     ]
    }
   ],
   "source": [
    "for x in n:\n",
    "        if type((x /3)) == int:\n",
    "            print(\"Fizz\")\n",
    "        if type((x/5))== int:\n",
    "            print(\"Buzz\")\n",
    "        if type((x /3)) == int and type((x/5))==int:\n",
    "            print(\"FizzBuzz\")\n",
    "        else:\n",
    "            print(x)"
   ]
  },
  {
   "cell_type": "code",
   "execution_count": 5,
   "id": "144e4002",
   "metadata": {},
   "outputs": [],
   "source": [
    "n = list(range(1,30))"
   ]
  },
  {
   "cell_type": "code",
   "execution_count": 1,
   "id": "f9a40e6b",
   "metadata": {},
   "outputs": [
    {
     "data": {
      "text/plain": [
       "False"
      ]
     },
     "execution_count": 1,
     "metadata": {},
     "output_type": "execute_result"
    }
   ],
   "source": [
    "type(10/5)==int"
   ]
  },
  {
   "cell_type": "code",
   "execution_count": 3,
   "id": "61a314a3",
   "metadata": {},
   "outputs": [],
   "source": [
    "x = 14"
   ]
  },
  {
   "cell_type": "code",
   "execution_count": 11,
   "id": "796f21d0",
   "metadata": {},
   "outputs": [
    {
     "name": "stdout",
     "output_type": "stream",
     "text": [
      "nutty\n"
     ]
    }
   ],
   "source": [
    "if type(x) ==int:\n",
    "    print(\"nutty\")\n",
    "elif x == 14:\n",
    "    print(\"buddy\")"
   ]
  },
  {
   "cell_type": "code",
   "execution_count": 9,
   "id": "25fcf58e",
   "metadata": {},
   "outputs": [
    {
     "name": "stdout",
     "output_type": "stream",
     "text": [
      "buddy\n"
     ]
    }
   ],
   "source": [
    "if x == 14:\n",
    "    print(\"buddy\")"
   ]
  },
  {
   "cell_type": "code",
   "execution_count": 1,
   "id": "620379fe",
   "metadata": {},
   "outputs": [],
   "source": [
    "myword = \"nutsack\""
   ]
  },
  {
   "cell_type": "code",
   "execution_count": 15,
   "id": "0c204536",
   "metadata": {},
   "outputs": [],
   "source": [
    "smalldicnic = \"tiny\""
   ]
  },
  {
   "cell_type": "code",
   "execution_count": 16,
   "id": "ca096707",
   "metadata": {},
   "outputs": [
    {
     "data": {
      "text/plain": [
       "'tiny'"
      ]
     },
     "execution_count": 16,
     "metadata": {},
     "output_type": "execute_result"
    }
   ],
   "source": [
    "smalldicnic"
   ]
  }
 ],
 "metadata": {
  "kernelspec": {
   "display_name": "Python 3 (ipykernel)",
   "language": "python",
   "name": "python3"
  },
  "language_info": {
   "codemirror_mode": {
    "name": "ipython",
    "version": 3
   },
   "file_extension": ".py",
   "mimetype": "text/x-python",
   "name": "python",
   "nbconvert_exporter": "python",
   "pygments_lexer": "ipython3",
   "version": "3.9.12"
  }
 },
 "nbformat": 4,
 "nbformat_minor": 5
}
