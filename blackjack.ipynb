{
 "cells": [
  {
   "cell_type": "code",
   "execution_count": 185,
   "id": "d8193899",
   "metadata": {},
   "outputs": [],
   "source": [
    "values = {\"two\":2,\"three\":3,\"four\":4,\"five\":5,\"six\":6,\"seven\":7,\"eight\":8,\"nine\":9,\n",
    "          \"ten\":10,\"jack\":10,\"queen\":10,\"king\":10,\"ace\":1}\n",
    "suits = ('Hearts', \"Diamonds\",\"Spades\",\"Clubs\")\n",
    "ranks = (\"two\",\"three\",\"four\",\"five\",\"six\",\"seven\",\"eight\",\"nine\",\n",
    "          \"ten\",\"jack\",\"queen\",\"king\",\"ace\")"
   ]
  },
  {
   "cell_type": "code",
   "execution_count": 186,
   "id": "5d7fb1b4",
   "metadata": {},
   "outputs": [],
   "source": [
    "from random import shuffle\n",
    "class Deck:\n",
    "     \n",
    "    def __init__(self):\n",
    "        self.listofcards = []\n",
    "        for suit in suits:\n",
    "            for rank in ranks:\n",
    "                currentcard = Card(suit,rank)\n",
    "                self.listofcards.append(currentcard)\n",
    "                \n",
    "    def shuffle(self):\n",
    "        random.shuffle(self.listofcards)\n",
    "        \n",
    "    def deal_one(self):\n",
    "        \n",
    "        return self.listofcards.pop(0)\n",
    "        "
   ]
  },
  {
   "cell_type": "code",
   "execution_count": 187,
   "id": "e24056f1",
   "metadata": {},
   "outputs": [],
   "source": [
    "class Card:\n",
    "    \n",
    "    def __init__(self,suit,rank):\n",
    "        self.suit = suit\n",
    "        self.rank = rank\n",
    "        self.value = values[rank]\n",
    "        \n",
    "    def __str__(self):\n",
    "        return self.rank + \" of \" + self.suit"
   ]
  },
  {
   "cell_type": "code",
   "execution_count": 207,
   "id": "d498f348",
   "metadata": {},
   "outputs": [],
   "source": [
    "class Player:\n",
    "    \n",
    "    def __init__(self):       \n",
    "        self.hand = []\n",
    "        self.bankroll = 10\n",
    "        self.busted = False\n",
    "            \n",
    "    \n",
    "        \n",
    "    "
   ]
  },
  {
   "cell_type": "code",
   "execution_count": 201,
   "id": "ea1922c3",
   "metadata": {},
   "outputs": [],
   "source": [
    "Dealer = Player()\n",
    "DomBhai = Player()\n",
    "GameDeck = Deck()\n",
    "GameDeck.shuffle()"
   ]
  },
  {
   "cell_type": "code",
   "execution_count": 202,
   "id": "8703aaf6",
   "metadata": {},
   "outputs": [],
   "source": [
    "Dealer.hand.append(GameDeck.deal_one())\n",
    "DomBhai.hand.append(GameDeck.deal_one())\n",
    "Dealer.hand.append(GameDeck.deal_one())\n",
    "DomBhai.hand.append(GameDeck.deal_one())"
   ]
  },
  {
   "cell_type": "code",
   "execution_count": null,
   "id": "b02a12cb",
   "metadata": {},
   "outputs": [
    {
     "name": "stdout",
     "output_type": "stream",
     "text": [
      "Your hand contains\n",
      "two of Diamonds\n",
      "jack of Hearts\n",
      "seven of Spades\n",
      "ace of Clubs\n",
      "\n",
      "The Dealer has\n",
      "eight of Spades\n",
      "Flipped Card\n"
     ]
    }
   ],
   "source": [
    "DomBhaisum = 0\n",
    "Dealersum = 0\n",
    "game_on = True\n",
    "\n",
    "who_won = \"noone\"\n",
    "x = \"ham\"\n",
    "\n",
    "while game_on == True:\n",
    "    \n",
    "    while x != \"S\":\n",
    "        clear_output()\n",
    "        print(\"Your hand contains\")\n",
    "        for card in DomBhai.hand:\n",
    "            print(card)\n",
    "        print (\"\\nThe Dealer has\")\n",
    "        print(Dealer.hand[0])\n",
    "        print(\"Flipped Card\")\n",
    "\n",
    "        x = input(\"Would you like to draw or stay? Type D or S: \")\n",
    "        if x == \"D\":\n",
    "            DomBhai.hand.append(GameDeck.deal_one())\n",
    "        DomBhaisum = 0\n",
    "        for card in DomBhai.hand:\n",
    "            DomBhaisum = card.value + DomBhaisum\n",
    "        if DomBhaisum > 21:\n",
    "            DomBhai.busted = True\n",
    "            game_on = False\n",
    "            break\n",
    "    \n",
    "            \n",
    "            \n",
    "            \n",
    "            \n",
    "            \n",
    "if DomBhai.busted == True:\n",
    "    print(\"DomBhai Busted over 21, Dealer wins\")\n",
    "elif Dealer.busted == True:\n",
    "    print(\"Dealer Busted over 21,  DomBhai wins\")\n",
    "elif who_won == \"DomBhai\":\n",
    "    print(\"DomBhai was closer to 21. He wins\")\n",
    "elif who_won == \"Dealer\":\n",
    "    print(\"Dealer was closer to 21. He wins\")\n",
    "    \n",
    "        \n",
    " \n",
    "    \n"
   ]
  },
  {
   "cell_type": "code",
   "execution_count": 231,
   "id": "5e1b9d20",
   "metadata": {},
   "outputs": [],
   "source": [
    "jimmy = Player()"
   ]
  },
  {
   "cell_type": "code",
   "execution_count": 241,
   "id": "4970b8ea",
   "metadata": {},
   "outputs": [],
   "source": [
    "greg = Player()"
   ]
  },
  {
   "cell_type": "code",
   "execution_count": 242,
   "id": "d049c7ea",
   "metadata": {},
   "outputs": [
    {
     "data": {
      "text/plain": [
       "False"
      ]
     },
     "execution_count": 242,
     "metadata": {},
     "output_type": "execute_result"
    }
   ],
   "source": [
    "greg.busted"
   ]
  },
  {
   "cell_type": "code",
   "execution_count": 237,
   "id": "d77376db",
   "metadata": {},
   "outputs": [],
   "source": [
    "jimmy.busted = True"
   ]
  },
  {
   "cell_type": "code",
   "execution_count": 246,
   "id": "62104063",
   "metadata": {},
   "outputs": [
    {
     "data": {
      "text/plain": [
       "True"
      ]
     },
     "execution_count": 246,
     "metadata": {},
     "output_type": "execute_result"
    }
   ],
   "source": [
    "jimmy.busted"
   ]
  }
 ],
 "metadata": {
  "kernelspec": {
   "display_name": "Python 3 (ipykernel)",
   "language": "python",
   "name": "python3"
  },
  "language_info": {
   "codemirror_mode": {
    "name": "ipython",
    "version": 3
   },
   "file_extension": ".py",
   "mimetype": "text/x-python",
   "name": "python",
   "nbconvert_exporter": "python",
   "pygments_lexer": "ipython3",
   "version": "3.9.12"
  }
 },
 "nbformat": 4,
 "nbformat_minor": 5
}
