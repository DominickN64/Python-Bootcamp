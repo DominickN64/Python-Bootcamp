{
 "cells": [
  {
   "cell_type": "code",
   "execution_count": 1,
   "id": "d8193899",
   "metadata": {},
   "outputs": [],
   "source": [
    "values = {\"two\":2,\"three\":3,\"four\":4,\"five\":5,\"six\":6,\"seven\":7,\"eight\":8,\"nine\":9,\n",
    "          \"ten\":10,\"jack\":10,\"queen\":10,\"king\":10,\"ace\":11}\n",
    "suits = ('Hearts', \"Diamonds\",\"Spades\",\"Clubs\")\n",
    "ranks = (\"two\",\"three\",\"four\",\"five\",\"six\",\"seven\",\"eight\",\"nine\",\n",
    "          \"ten\",\"jack\",\"queen\",\"king\",\"ace\")"
   ]
  },
  {
   "cell_type": "code",
   "execution_count": null,
   "id": "5fe6e5b6",
   "metadata": {},
   "outputs": [],
   "source": []
  },
  {
   "cell_type": "code",
   "execution_count": 2,
   "id": "5d7fb1b4",
   "metadata": {},
   "outputs": [],
   "source": [
    "from IPython.display import clear_output\n",
    "import random\n",
    "from random import shuffle\n",
    "class Deck:\n",
    "     \n",
    "    def __init__(self):\n",
    "        self.listofcards = []\n",
    "        for suit in suits:\n",
    "            for rank in ranks:\n",
    "                currentcard = Card(suit,rank)\n",
    "                self.listofcards.append(currentcard)\n",
    "                \n",
    "    def shuffle(self):\n",
    "        random.shuffle(self.listofcards)\n",
    "        \n",
    "    def deal_one(self):\n",
    "        \n",
    "        return self.listofcards.pop(0)\n",
    "        "
   ]
  },
  {
   "cell_type": "code",
   "execution_count": 3,
   "id": "e24056f1",
   "metadata": {},
   "outputs": [],
   "source": [
    "class Card:\n",
    "    \n",
    "    def __init__(self,suit,rank):\n",
    "        self.suit = suit\n",
    "        self.rank = rank\n",
    "        self.value = values[rank]\n",
    "        \n",
    "    def __str__(self):\n",
    "        return self.rank + \" of \" + self.suit"
   ]
  },
  {
   "cell_type": "code",
   "execution_count": 4,
   "id": "d498f348",
   "metadata": {},
   "outputs": [],
   "source": [
    "class Player:\n",
    "    \n",
    "    def __init__(self):       \n",
    "        self.hand = []\n",
    "        self.bankroll = 10\n",
    "        self.busted = False\n",
    "        self.sum = 0\n",
    "        self.bankroll = 10\n",
    "            \n",
    "    \n",
    "        \n",
    "    "
   ]
  },
  {
   "cell_type": "code",
   "execution_count": 5,
   "id": "ea1922c3",
   "metadata": {},
   "outputs": [],
   "source": [
    "Dealer = Player()\n",
    "DomBhai = Player()\n",
    "GameDeck = Deck()\n",
    "GameDeck.shuffle()"
   ]
  },
  {
   "cell_type": "code",
   "execution_count": 6,
   "id": "8703aaf6",
   "metadata": {},
   "outputs": [],
   "source": [
    "Dealer.hand.append(GameDeck.deal_one())\n",
    "DomBhai.hand.append(GameDeck.deal_one())\n",
    "Dealer.hand.append(GameDeck.deal_one())\n",
    "DomBhai.hand.append(GameDeck.deal_one())\n",
    "for card in DomBhai.hand:\n",
    "    DomBhai.sum = card.value + DomBhai.sum"
   ]
  },
  {
   "cell_type": "code",
   "execution_count": 12,
   "id": "b02a12cb",
   "metadata": {},
   "outputs": [
    {
     "name": "stdout",
     "output_type": "stream",
     "text": [
      "Your hand contains\n",
      "ten of Clubs\n",
      "three of Clubs\n",
      "four of Spades\n",
      "\n",
      "Dealers hand contains\n",
      "ten of Diamonds\n",
      "six of Spades\n",
      "five of Clubs\n",
      "Your sum is 17, Dealer sum is 21\n",
      "Dealer was closer to 21. He wins\n"
     ]
    }
   ],
   "source": [
    "Dealer.hand = []\n",
    "DomBhai.hand = []\n",
    "DomBhai.sum = 0\n",
    "Dealer.sum = 0\n",
    "Dealer.hand.append(GameDeck.deal_one())\n",
    "DomBhai.hand.append(GameDeck.deal_one())\n",
    "Dealer.hand.append(GameDeck.deal_one())\n",
    "DomBhai.hand.append(GameDeck.deal_one())\n",
    "for card in DomBhai.hand:\n",
    "    DomBhai.sum = card.value + DomBhai.sum\n",
    "for card in Dealer.hand:\n",
    "    Dealer.sum = card.value + Dealer.sum\n",
    "    \n",
    "game_on = True\n",
    "AceMinusDom = False\n",
    "AceMinusDealer = False\n",
    "DomBhai.busted = False\n",
    "Dealer.busted = False\n",
    "who_won = \"noone\"\n",
    "x = \"ham\"\n",
    "\n",
    "\n",
    "y = int(input(f\"Place a bet, your bankroll is {DomBhai.bankroll}\"))\n",
    "while game_on == True:\n",
    "    \n",
    "    \n",
    "    while x != \"S\":\n",
    "        clear_output()\n",
    "        print(\"Your hand contains\")\n",
    "        for card in DomBhai.hand:\n",
    "            print(card)\n",
    "        print (\"\\nThe Dealer has\")\n",
    "        for card in Dealer.hand:\n",
    "            if card == Dealer.hand[1]:\n",
    "                print (\"Flipped Card\")\n",
    "            else:\n",
    "                print(card)\n",
    "        if DomBhai.sum == 21:\n",
    "            game_on = False\n",
    "            \n",
    "            break\n",
    "            \n",
    "\n",
    "        x = input(\"Would you like to draw or stay? Type D or S: \")\n",
    "        if x == \"D\":\n",
    "            DomBhai.hand.append(GameDeck.deal_one())\n",
    "            DomBhai.sum += DomBhai.hand[-1].value\n",
    "        \n",
    "        if DomBhai.sum == 21:\n",
    "            game_on = False\n",
    "            break\n",
    "        \n",
    "        elif DomBhai.sum > 21:\n",
    "            for card in DomBhai.hand:\n",
    "                if card.value == 11 and AceMinusDom == False:\n",
    "                    AceMinusDom = True\n",
    "                    DomBhai.sum -= 10\n",
    "            \n",
    "            if DomBhai.sum > 21:\n",
    "\n",
    "                DomBhai.busted = True\n",
    "                game_on = False\n",
    "                break\n",
    "    \n",
    "    while Dealer.sum < DomBhai.sum and Dealer.sum < 21:                \n",
    "        Dealer.hand.append(GameDeck.deal_one())\n",
    "        Dealer.sum += Dealer.hand[-1].value\n",
    "        if Dealer.sum > 21:\n",
    "            for card in Dealer.hand:\n",
    "                if card.value == 11 and AceMinusDealer == False:\n",
    "                    AceMinusDealer = True\n",
    "                    Dealer.sum -= 10\n",
    "            \n",
    "    \n",
    "    \n",
    "    \n",
    "    \n",
    "    if Dealer.sum > 21:\n",
    "        game_on = False\n",
    "        Dealer.busted = True\n",
    "    elif Dealer.sum > DomBhai.sum:\n",
    "        game_on = False\n",
    "        who_won = \"Dealer\"\n",
    "    \n",
    "    \n",
    "            \n",
    "            \n",
    "if DomBhai.busted == True:\n",
    "    DomBhai.bankroll -= y\n",
    "    Dealer.bankroll += y\n",
    "    clear_output()\n",
    "    print(\"Your hand contains\")\n",
    "    for card in DomBhai.hand:\n",
    "        print(card)\n",
    "    print(\"DomBhai Busted over 21, Dealer wins\")\n",
    "elif Dealer.busted == True:\n",
    "    DomBhai.bankroll += y\n",
    "    Dealer.bankroll -= y\n",
    "    clear_output()\n",
    "    print(\"Dealers hand contains\")\n",
    "    for card in Dealer.hand:\n",
    "        print(card)\n",
    "    \n",
    "    print(\"Dealer Busted over 21,  DomBhai wins\")\n",
    "\n",
    "elif who_won == \"Dealer\":\n",
    "    DomBhai.bankroll -= y\n",
    "    Dealer.bankroll += y\n",
    "    clear_output()\n",
    "    print(\"Your hand contains\")\n",
    "    for card in DomBhai.hand:\n",
    "        print(card)\n",
    "    \n",
    "    print(\"\\nDealers hand contains\")\n",
    "    for card in Dealer.hand:\n",
    "        print(card)\n",
    "    print (f\"Your sum is {DomBhai.sum}, Dealer sum is {Dealer.sum}\")    \n",
    "    \n",
    "    print(\"Dealer was closer to 21. He wins\")\n",
    "    \n",
    "        \n",
    "elif DomBhai.sum == 21 and Dealer.sum == 21:\n",
    "    clear_output()\n",
    "    print(\"Your hand contains\")\n",
    "    for card in DomBhai.hand:\n",
    "        print(card)\n",
    "    \n",
    "    print(\"\\nDealers hand contains\")\n",
    "    for card in Dealer.hand:\n",
    "        print(card)\n",
    "    print(\"Tie, you both got 21\")\n",
    "    \n",
    "elif DomBhai.sum == 21:\n",
    "    print(\"You have 21, you win\")\n",
    "    \n"
   ]
  },
  {
   "cell_type": "code",
   "execution_count": 195,
   "id": "5e1b9d20",
   "metadata": {},
   "outputs": [
    {
     "data": {
      "text/plain": [
       "20"
      ]
     },
     "execution_count": 195,
     "metadata": {},
     "output_type": "execute_result"
    }
   ],
   "source": [
    "DomBhai.sum"
   ]
  },
  {
   "cell_type": "code",
   "execution_count": 196,
   "id": "506e5d52",
   "metadata": {},
   "outputs": [
    {
     "data": {
      "text/plain": [
       "29"
      ]
     },
     "execution_count": 196,
     "metadata": {},
     "output_type": "execute_result"
    }
   ],
   "source": [
    "Dealer.sum\n",
    "\n"
   ]
  },
  {
   "cell_type": "code",
   "execution_count": 209,
   "id": "a2fb223d",
   "metadata": {},
   "outputs": [
    {
     "data": {
      "text/plain": [
       "18"
      ]
     },
     "execution_count": 209,
     "metadata": {},
     "output_type": "execute_result"
    }
   ],
   "source": [
    "Dealer.bankroll"
   ]
  },
  {
   "cell_type": "code",
   "execution_count": 224,
   "id": "4970b8ea",
   "metadata": {},
   "outputs": [
    {
     "data": {
      "text/plain": [
       "2"
      ]
     },
     "execution_count": 224,
     "metadata": {},
     "output_type": "execute_result"
    }
   ],
   "source": [
    "DomBhai.bankroll"
   ]
  },
  {
   "cell_type": "code",
   "execution_count": 234,
   "id": "0ae2e327",
   "metadata": {},
   "outputs": [
    {
     "name": "stdout",
     "output_type": "stream",
     "text": [
      "30\n"
     ]
    }
   ],
   "source": [
    "print(len(GameDeck.listofcards))"
   ]
  }
 ],
 "metadata": {
  "kernelspec": {
   "display_name": "Python 3 (ipykernel)",
   "language": "python",
   "name": "python3"
  },
  "language_info": {
   "codemirror_mode": {
    "name": "ipython",
    "version": 3
   },
   "file_extension": ".py",
   "mimetype": "text/x-python",
   "name": "python",
   "nbconvert_exporter": "python",
   "pygments_lexer": "ipython3",
   "version": "3.9.12"
  }
 },
 "nbformat": 4,
 "nbformat_minor": 5
}
