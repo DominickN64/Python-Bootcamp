{
 "cells": [
  {
   "cell_type": "code",
   "execution_count": 2,
   "id": "80c29088",
   "metadata": {},
   "outputs": [],
   "source": [
    "def myfunc(x,y,z):\n",
    "    if z == True:\n",
    "        return x\n",
    "    else:\n",
    "        return y"
   ]
  },
  {
   "cell_type": "code",
   "execution_count": 4,
   "id": "cff72889",
   "metadata": {},
   "outputs": [],
   "source": [
    "z = 1==1"
   ]
  },
  {
   "cell_type": "code",
   "execution_count": 14,
   "id": "a0f28150",
   "metadata": {},
   "outputs": [
    {
     "data": {
      "text/plain": [
       "'penis'"
      ]
     },
     "execution_count": 14,
     "metadata": {},
     "output_type": "execute_result"
    }
   ],
   "source": [
    "myfunc(x,y,z)"
   ]
  },
  {
   "cell_type": "code",
   "execution_count": 12,
   "id": "0a2ea356",
   "metadata": {},
   "outputs": [],
   "source": [
    "x = 'penis'"
   ]
  },
  {
   "cell_type": "code",
   "execution_count": 15,
   "id": "6417f618",
   "metadata": {},
   "outputs": [],
   "source": [
    "y = 'nuts'"
   ]
  },
  {
   "cell_type": "code",
   "execution_count": 2,
   "id": "042cbdef",
   "metadata": {},
   "outputs": [],
   "source": [
    "def is_greater(c,d):\n",
    "    if c > d:\n",
    "        return True\n",
    "    elif c <= d:\n",
    "        return False"
   ]
  },
  {
   "cell_type": "code",
   "execution_count": 4,
   "id": "513fff56",
   "metadata": {},
   "outputs": [],
   "source": [
    "c = 1"
   ]
  },
  {
   "cell_type": "code",
   "execution_count": 6,
   "id": "41aeb876",
   "metadata": {},
   "outputs": [],
   "source": [
    "d = 1"
   ]
  },
  {
   "cell_type": "code",
   "execution_count": 7,
   "id": "8e733cca",
   "metadata": {},
   "outputs": [
    {
     "data": {
      "text/plain": [
       "False"
      ]
     },
     "execution_count": 7,
     "metadata": {},
     "output_type": "execute_result"
    }
   ],
   "source": [
    "is_greater(c,d)"
   ]
  },
  {
   "cell_type": "code",
   "execution_count": 4,
   "id": "54f33656",
   "metadata": {},
   "outputs": [],
   "source": [
    "mystring = 'aebeu'"
   ]
  },
  {
   "cell_type": "code",
   "execution_count": 35,
   "id": "35cf60cb",
   "metadata": {},
   "outputs": [],
   "source": [
    "for letter in args:\n",
    "    if letter == 'string':\n",
    "        print(letter)\n",
    "    "
   ]
  },
  {
   "cell_type": "code",
   "execution_count": 1,
   "id": "7a59b36c",
   "metadata": {},
   "outputs": [],
   "source": [
    "args = 'stringcheese'"
   ]
  },
  {
   "cell_type": "code",
   "execution_count": 5,
   "id": "ea3a0282",
   "metadata": {},
   "outputs": [
    {
     "data": {
      "text/plain": [
       "<enumerate at 0x19d37cb7800>"
      ]
     },
     "execution_count": 5,
     "metadata": {},
     "output_type": "execute_result"
    }
   ],
   "source": [
    "enumerate(mystring)"
   ]
  }
 ],
 "metadata": {
  "kernelspec": {
   "display_name": "Python 3 (ipykernel)",
   "language": "python",
   "name": "python3"
  },
  "language_info": {
   "codemirror_mode": {
    "name": "ipython",
    "version": 3
   },
   "file_extension": ".py",
   "mimetype": "text/x-python",
   "name": "python",
   "nbconvert_exporter": "python",
   "pygments_lexer": "ipython3",
   "version": "3.9.12"
  }
 },
 "nbformat": 4,
 "nbformat_minor": 5
}
