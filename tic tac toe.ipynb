{
 "cells": [
  {
   "cell_type": "code",
   "execution_count": 26,
   "id": "f91c788e",
   "metadata": {},
   "outputs": [],
   "source": [
    "from IPython.display import clear_output"
   ]
  },
  {
   "cell_type": "code",
   "execution_count": 27,
   "id": "6215127c",
   "metadata": {},
   "outputs": [],
   "source": [
    "def display_board(board):\n",
    "    print(board[7]+'|'+ board[8]+'|'+board[9])\n",
    "    print(board[4]+'|'+ board[5]+'|'+board[6])                  \n",
    "    print(board[1]+'|'+ board[2]+'|'+board[3])\n",
    "    \n",
    "    \n"
   ]
  },
  {
   "cell_type": "code",
   "execution_count": 39,
   "id": "0289b2b3",
   "metadata": {},
   "outputs": [],
   "source": [
    "board = ['#','1','2','3','4','5','6','7','8','9']"
   ]
  },
  {
   "cell_type": "code",
   "execution_count": 38,
   "id": "7c305d57",
   "metadata": {},
   "outputs": [
    {
     "name": "stdout",
     "output_type": "stream",
     "text": [
      "||\n",
      "||\n",
      "||\n"
     ]
    }
   ],
   "source": [
    "display_board(board)"
   ]
  },
  {
   "cell_type": "code",
   "execution_count": 22,
   "id": "156c5443",
   "metadata": {},
   "outputs": [],
   "source": [
    "def greeting():\n",
    "    print('Welcome to tiktaktoe')\n",
    "    \n",
    "    Player_1_character = 'Blank'\n",
    "    while Player_1_character.upper() not in ['X','O']:\n",
    "        Player_1_character = input('Player 1, would you like to be X or O? ')\n",
    "        Player_1_character = Player_1_character.upper()\n",
    "        if Player_1_character.upper() not in ['X','O']:\n",
    "        \n",
    "            print('Please choose X or O')\n",
    "    \n",
    "    \n",
    "    \n",
    "    if Player_1_character == 'X':\n",
    "        Player_2_character = 'O'\n",
    "        \n",
    "    else:\n",
    "        Player_2_character = 'X'\n",
    "        \n",
    "        \n",
    "    print(f'Player 1 is {Player_1_character}')\n",
    "    print(f'Player 2 is {Player_2_character}')\n",
    "    print('Game on Dick Munchers')\n",
    "          "
   ]
  },
  {
   "cell_type": "code",
   "execution_count": 36,
   "id": "10c70803",
   "metadata": {},
   "outputs": [
    {
     "name": "stdout",
     "output_type": "stream",
     "text": [
      "Welcome to tiktaktoe\n",
      "Player 1, would you like to be X or O? O\n",
      "Player 1 is O\n",
      "Player 2 is X\n",
      "Game on Dick Munchers\n"
     ]
    }
   ],
   "source": [
    "greeting()"
   ]
  },
  {
   "cell_type": "code",
   "execution_count": 76,
   "id": "1bfe422c",
   "metadata": {},
   "outputs": [],
   "source": [
    "def place_symbol():\n",
    "    available_values = ['1','2','3','4','5','6','7','8','9']\n",
    "    first_placement = '900'\n",
    "    game_on = True\n",
    "    \n",
    "    while game_on:\n",
    "    \n",
    "        while first_placement not in available_values:\n",
    "            first_placement = input('Where would you like to place your symbol? ')\n",
    "         \n",
    "    \n",
    "        first_placement = int(first_placement)\n",
    "        board[first_placement] = 'X'\n",
    "        available_values.pop(first_placement - 1)\n",
    "    \n",
    "    \n",
    "    \n",
    "    \n",
    "    \n",
    "    "
   ]
  },
  {
   "cell_type": "code",
   "execution_count": 77,
   "id": "41ef710f",
   "metadata": {},
   "outputs": [
    {
     "name": "stdout",
     "output_type": "stream",
     "text": [
      "Player 1, where would you like to place your symbol? Ham\n",
      "Player 1, where would you like to place your symbol? \n",
      "Player 1, where would you like to place your symbol? 4\n",
      "['1', '2', '3', '5', '6', '7', '8', '9']\n"
     ]
    }
   ],
   "source": [
    "place_symbol()"
   ]
  },
  {
   "cell_type": "code",
   "execution_count": 70,
   "id": "6313bb45",
   "metadata": {},
   "outputs": [
    {
     "data": {
      "text/plain": [
       "['1', '2', '3', '4', '6', '7', '8', '9']"
      ]
     },
     "execution_count": 70,
     "metadata": {},
     "output_type": "execute_result"
    }
   ],
   "source": [
    "available_values = ['1','2','3','4','5','6','7','8','9']\n",
    "available_values.pop(4)\n",
    "available_values"
   ]
  }
 ],
 "metadata": {
  "kernelspec": {
   "display_name": "Python 3 (ipykernel)",
   "language": "python",
   "name": "python3"
  },
  "language_info": {
   "codemirror_mode": {
    "name": "ipython",
    "version": 3
   },
   "file_extension": ".py",
   "mimetype": "text/x-python",
   "name": "python",
   "nbconvert_exporter": "python",
   "pygments_lexer": "ipython3",
   "version": "3.9.12"
  }
 },
 "nbformat": 4,
 "nbformat_minor": 5
}
